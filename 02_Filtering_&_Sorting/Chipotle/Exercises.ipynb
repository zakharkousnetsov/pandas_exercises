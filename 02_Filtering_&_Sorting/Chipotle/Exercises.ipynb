{
 "cells": [
  {
   "cell_type": "markdown",
   "metadata": {
    "pycharm": {
     "name": "#%% md\n"
    }
   },
   "source": [
    "# Ex1 - Filtering and Sorting Data"
   ]
  },
  {
   "cell_type": "markdown",
   "metadata": {
    "pycharm": {
     "name": "#%% md\n"
    }
   },
   "source": [
    "This time we are going to pull data directly from the internet.\n",
    "Special thanks to: https://github.com/justmarkham for sharing the dataset and materials.\n",
    "\n",
    "### Step 1. Import the necessary libraries"
   ]
  },
  {
   "cell_type": "code",
   "execution_count": 1,
   "metadata": {
    "collapsed": false,
    "pycharm": {
     "name": "#%%\n"
    }
   },
   "outputs": [],
   "source": [
    "import pandas as pd"
   ]
  },
  {
   "cell_type": "markdown",
   "metadata": {
    "pycharm": {
     "name": "#%% md\n"
    }
   },
   "source": [
    "### Step 2. Import the dataset from this [address](https://raw.githubusercontent.com/justmarkham/DAT8/master/data/chipotle.tsv). "
   ]
  },
  {
   "cell_type": "markdown",
   "metadata": {
    "pycharm": {
     "name": "#%% md\n"
    }
   },
   "source": [
    "### Step 3. Assign it to a variable called chipo."
   ]
  },
  {
   "cell_type": "code",
   "execution_count": 3,
   "metadata": {
    "collapsed": false,
    "pycharm": {
     "name": "#%%\n"
    }
   },
   "outputs": [
    {
     "data": {
      "text/plain": "      order_id  quantity                              item_name  \\\n0            1         1           Chips and Fresh Tomato Salsa   \n1            1         1                                   Izze   \n2            1         1                       Nantucket Nectar   \n3            1         1  Chips and Tomatillo-Green Chili Salsa   \n4            2         2                           Chicken Bowl   \n...        ...       ...                                    ...   \n4617      1833         1                          Steak Burrito   \n4618      1833         1                          Steak Burrito   \n4619      1834         1                     Chicken Salad Bowl   \n4620      1834         1                     Chicken Salad Bowl   \n4621      1834         1                     Chicken Salad Bowl   \n\n                                     choice_description item_price  \n0                                                   NaN     $2.39   \n1                                          [Clementine]     $3.39   \n2                                               [Apple]     $3.39   \n3                                                   NaN     $2.39   \n4     [Tomatillo-Red Chili Salsa (Hot), [Black Beans...    $16.98   \n...                                                 ...        ...  \n4617  [Fresh Tomato Salsa, [Rice, Black Beans, Sour ...    $11.75   \n4618  [Fresh Tomato Salsa, [Rice, Sour Cream, Cheese...    $11.75   \n4619  [Fresh Tomato Salsa, [Fajita Vegetables, Pinto...    $11.25   \n4620  [Fresh Tomato Salsa, [Fajita Vegetables, Lettu...     $8.75   \n4621  [Fresh Tomato Salsa, [Fajita Vegetables, Pinto...     $8.75   \n\n[4622 rows x 5 columns]",
      "text/html": "<div>\n<style scoped>\n    .dataframe tbody tr th:only-of-type {\n        vertical-align: middle;\n    }\n\n    .dataframe tbody tr th {\n        vertical-align: top;\n    }\n\n    .dataframe thead th {\n        text-align: right;\n    }\n</style>\n<table border=\"1\" class=\"dataframe\">\n  <thead>\n    <tr style=\"text-align: right;\">\n      <th></th>\n      <th>order_id</th>\n      <th>quantity</th>\n      <th>item_name</th>\n      <th>choice_description</th>\n      <th>item_price</th>\n    </tr>\n  </thead>\n  <tbody>\n    <tr>\n      <th>0</th>\n      <td>1</td>\n      <td>1</td>\n      <td>Chips and Fresh Tomato Salsa</td>\n      <td>NaN</td>\n      <td>$2.39</td>\n    </tr>\n    <tr>\n      <th>1</th>\n      <td>1</td>\n      <td>1</td>\n      <td>Izze</td>\n      <td>[Clementine]</td>\n      <td>$3.39</td>\n    </tr>\n    <tr>\n      <th>2</th>\n      <td>1</td>\n      <td>1</td>\n      <td>Nantucket Nectar</td>\n      <td>[Apple]</td>\n      <td>$3.39</td>\n    </tr>\n    <tr>\n      <th>3</th>\n      <td>1</td>\n      <td>1</td>\n      <td>Chips and Tomatillo-Green Chili Salsa</td>\n      <td>NaN</td>\n      <td>$2.39</td>\n    </tr>\n    <tr>\n      <th>4</th>\n      <td>2</td>\n      <td>2</td>\n      <td>Chicken Bowl</td>\n      <td>[Tomatillo-Red Chili Salsa (Hot), [Black Beans...</td>\n      <td>$16.98</td>\n    </tr>\n    <tr>\n      <th>...</th>\n      <td>...</td>\n      <td>...</td>\n      <td>...</td>\n      <td>...</td>\n      <td>...</td>\n    </tr>\n    <tr>\n      <th>4617</th>\n      <td>1833</td>\n      <td>1</td>\n      <td>Steak Burrito</td>\n      <td>[Fresh Tomato Salsa, [Rice, Black Beans, Sour ...</td>\n      <td>$11.75</td>\n    </tr>\n    <tr>\n      <th>4618</th>\n      <td>1833</td>\n      <td>1</td>\n      <td>Steak Burrito</td>\n      <td>[Fresh Tomato Salsa, [Rice, Sour Cream, Cheese...</td>\n      <td>$11.75</td>\n    </tr>\n    <tr>\n      <th>4619</th>\n      <td>1834</td>\n      <td>1</td>\n      <td>Chicken Salad Bowl</td>\n      <td>[Fresh Tomato Salsa, [Fajita Vegetables, Pinto...</td>\n      <td>$11.25</td>\n    </tr>\n    <tr>\n      <th>4620</th>\n      <td>1834</td>\n      <td>1</td>\n      <td>Chicken Salad Bowl</td>\n      <td>[Fresh Tomato Salsa, [Fajita Vegetables, Lettu...</td>\n      <td>$8.75</td>\n    </tr>\n    <tr>\n      <th>4621</th>\n      <td>1834</td>\n      <td>1</td>\n      <td>Chicken Salad Bowl</td>\n      <td>[Fresh Tomato Salsa, [Fajita Vegetables, Pinto...</td>\n      <td>$8.75</td>\n    </tr>\n  </tbody>\n</table>\n<p>4622 rows × 5 columns</p>\n</div>"
     },
     "execution_count": 3,
     "metadata": {},
     "output_type": "execute_result"
    }
   ],
   "source": [
    "chipo = pd.read_csv('https://raw.githubusercontent.com/justmarkham/DAT8/master/data/chipotle.tsv', sep='\\t')\n",
    "chipo"
   ]
  },
  {
   "cell_type": "markdown",
   "metadata": {
    "pycharm": {
     "name": "#%% md\n"
    }
   },
   "source": [
    "### Step 4. How many products cost more than $10.00?"
   ]
  },
  {
   "cell_type": "code",
   "execution_count": 28,
   "metadata": {
    "collapsed": false,
    "pycharm": {
     "name": "#%%\n"
    }
   },
   "outputs": [
    {
     "data": {
      "text/plain": "31"
     },
     "execution_count": 28,
     "metadata": {},
     "output_type": "execute_result"
    }
   ],
   "source": [
    "chipo[chipo['item_price'].apply(lambda x: float(x[1:]))>10]['item_name'].nunique()"
   ]
  },
  {
   "cell_type": "markdown",
   "metadata": {
    "pycharm": {
     "name": "#%% md\n"
    }
   },
   "source": [
    "### Step 5. What is the price of each item? \n",
    "###### print a data frame with only two columns item_name and item_price"
   ]
  },
  {
   "cell_type": "code",
   "execution_count": 29,
   "metadata": {
    "collapsed": false,
    "pycharm": {
     "name": "#%%\n"
    }
   },
   "outputs": [
    {
     "data": {
      "text/plain": "                                  item_name item_price\n0              Chips and Fresh Tomato Salsa     $2.39 \n1                                      Izze     $3.39 \n2                          Nantucket Nectar     $3.39 \n3     Chips and Tomatillo-Green Chili Salsa     $2.39 \n4                              Chicken Bowl    $16.98 \n...                                     ...        ...\n4237                    Chips and Guacamole     $8.50 \n4354                       Steak Soft Tacos    $18.50 \n4489                    Chips and Guacamole    $17.80 \n4509                                  Chips     $1.99 \n4510                          Barbacoa Bowl    $11.49 \n\n[209 rows x 2 columns]",
      "text/html": "<div>\n<style scoped>\n    .dataframe tbody tr th:only-of-type {\n        vertical-align: middle;\n    }\n\n    .dataframe tbody tr th {\n        vertical-align: top;\n    }\n\n    .dataframe thead th {\n        text-align: right;\n    }\n</style>\n<table border=\"1\" class=\"dataframe\">\n  <thead>\n    <tr style=\"text-align: right;\">\n      <th></th>\n      <th>item_name</th>\n      <th>item_price</th>\n    </tr>\n  </thead>\n  <tbody>\n    <tr>\n      <th>0</th>\n      <td>Chips and Fresh Tomato Salsa</td>\n      <td>$2.39</td>\n    </tr>\n    <tr>\n      <th>1</th>\n      <td>Izze</td>\n      <td>$3.39</td>\n    </tr>\n    <tr>\n      <th>2</th>\n      <td>Nantucket Nectar</td>\n      <td>$3.39</td>\n    </tr>\n    <tr>\n      <th>3</th>\n      <td>Chips and Tomatillo-Green Chili Salsa</td>\n      <td>$2.39</td>\n    </tr>\n    <tr>\n      <th>4</th>\n      <td>Chicken Bowl</td>\n      <td>$16.98</td>\n    </tr>\n    <tr>\n      <th>...</th>\n      <td>...</td>\n      <td>...</td>\n    </tr>\n    <tr>\n      <th>4237</th>\n      <td>Chips and Guacamole</td>\n      <td>$8.50</td>\n    </tr>\n    <tr>\n      <th>4354</th>\n      <td>Steak Soft Tacos</td>\n      <td>$18.50</td>\n    </tr>\n    <tr>\n      <th>4489</th>\n      <td>Chips and Guacamole</td>\n      <td>$17.80</td>\n    </tr>\n    <tr>\n      <th>4509</th>\n      <td>Chips</td>\n      <td>$1.99</td>\n    </tr>\n    <tr>\n      <th>4510</th>\n      <td>Barbacoa Bowl</td>\n      <td>$11.49</td>\n    </tr>\n  </tbody>\n</table>\n<p>209 rows × 2 columns</p>\n</div>"
     },
     "execution_count": 29,
     "metadata": {},
     "output_type": "execute_result"
    }
   ],
   "source": [
    "chipo[['item_name', 'item_price']].drop_duplicates()"
   ]
  },
  {
   "cell_type": "markdown",
   "metadata": {
    "pycharm": {
     "name": "#%% md\n"
    }
   },
   "source": [
    "### Step 6. Sort by the name of the item"
   ]
  },
  {
   "cell_type": "code",
   "execution_count": 27,
   "metadata": {
    "collapsed": false,
    "pycharm": {
     "name": "#%%\n"
    }
   },
   "outputs": [
    {
     "data": {
      "text/plain": "      order_id  quantity          item_name  \\\n3389      1360         2  6 Pack Soft Drink   \n341        148         1  6 Pack Soft Drink   \n1849       749         1  6 Pack Soft Drink   \n1860       754         1  6 Pack Soft Drink   \n2713      1076         1  6 Pack Soft Drink   \n...        ...       ...                ...   \n2384       948         1  Veggie Soft Tacos   \n781        322         1  Veggie Soft Tacos   \n2851      1132         1  Veggie Soft Tacos   \n1699       688         1  Veggie Soft Tacos   \n1395       567         1  Veggie Soft Tacos   \n\n                                     choice_description item_price  \n3389                                        [Diet Coke]    $12.98   \n341                                         [Diet Coke]     $6.49   \n1849                                             [Coke]     $6.49   \n1860                                        [Diet Coke]     $6.49   \n2713                                             [Coke]     $6.49   \n...                                                 ...        ...  \n2384  [Roasted Chili Corn Salsa, [Fajita Vegetables,...     $8.75   \n781   [Fresh Tomato Salsa, [Black Beans, Cheese, Sou...     $8.75   \n2851  [Roasted Chili Corn Salsa (Medium), [Black Bea...     $8.49   \n1699  [Fresh Tomato Salsa, [Fajita Vegetables, Rice,...    $11.25   \n1395  [Fresh Tomato Salsa (Mild), [Pinto Beans, Rice...     $8.49   \n\n[4622 rows x 5 columns]",
      "text/html": "<div>\n<style scoped>\n    .dataframe tbody tr th:only-of-type {\n        vertical-align: middle;\n    }\n\n    .dataframe tbody tr th {\n        vertical-align: top;\n    }\n\n    .dataframe thead th {\n        text-align: right;\n    }\n</style>\n<table border=\"1\" class=\"dataframe\">\n  <thead>\n    <tr style=\"text-align: right;\">\n      <th></th>\n      <th>order_id</th>\n      <th>quantity</th>\n      <th>item_name</th>\n      <th>choice_description</th>\n      <th>item_price</th>\n    </tr>\n  </thead>\n  <tbody>\n    <tr>\n      <th>3389</th>\n      <td>1360</td>\n      <td>2</td>\n      <td>6 Pack Soft Drink</td>\n      <td>[Diet Coke]</td>\n      <td>$12.98</td>\n    </tr>\n    <tr>\n      <th>341</th>\n      <td>148</td>\n      <td>1</td>\n      <td>6 Pack Soft Drink</td>\n      <td>[Diet Coke]</td>\n      <td>$6.49</td>\n    </tr>\n    <tr>\n      <th>1849</th>\n      <td>749</td>\n      <td>1</td>\n      <td>6 Pack Soft Drink</td>\n      <td>[Coke]</td>\n      <td>$6.49</td>\n    </tr>\n    <tr>\n      <th>1860</th>\n      <td>754</td>\n      <td>1</td>\n      <td>6 Pack Soft Drink</td>\n      <td>[Diet Coke]</td>\n      <td>$6.49</td>\n    </tr>\n    <tr>\n      <th>2713</th>\n      <td>1076</td>\n      <td>1</td>\n      <td>6 Pack Soft Drink</td>\n      <td>[Coke]</td>\n      <td>$6.49</td>\n    </tr>\n    <tr>\n      <th>...</th>\n      <td>...</td>\n      <td>...</td>\n      <td>...</td>\n      <td>...</td>\n      <td>...</td>\n    </tr>\n    <tr>\n      <th>2384</th>\n      <td>948</td>\n      <td>1</td>\n      <td>Veggie Soft Tacos</td>\n      <td>[Roasted Chili Corn Salsa, [Fajita Vegetables,...</td>\n      <td>$8.75</td>\n    </tr>\n    <tr>\n      <th>781</th>\n      <td>322</td>\n      <td>1</td>\n      <td>Veggie Soft Tacos</td>\n      <td>[Fresh Tomato Salsa, [Black Beans, Cheese, Sou...</td>\n      <td>$8.75</td>\n    </tr>\n    <tr>\n      <th>2851</th>\n      <td>1132</td>\n      <td>1</td>\n      <td>Veggie Soft Tacos</td>\n      <td>[Roasted Chili Corn Salsa (Medium), [Black Bea...</td>\n      <td>$8.49</td>\n    </tr>\n    <tr>\n      <th>1699</th>\n      <td>688</td>\n      <td>1</td>\n      <td>Veggie Soft Tacos</td>\n      <td>[Fresh Tomato Salsa, [Fajita Vegetables, Rice,...</td>\n      <td>$11.25</td>\n    </tr>\n    <tr>\n      <th>1395</th>\n      <td>567</td>\n      <td>1</td>\n      <td>Veggie Soft Tacos</td>\n      <td>[Fresh Tomato Salsa (Mild), [Pinto Beans, Rice...</td>\n      <td>$8.49</td>\n    </tr>\n  </tbody>\n</table>\n<p>4622 rows × 5 columns</p>\n</div>"
     },
     "execution_count": 27,
     "metadata": {},
     "output_type": "execute_result"
    }
   ],
   "source": [
    "chipo.sort_values(by='item_name')"
   ]
  },
  {
   "cell_type": "markdown",
   "metadata": {
    "pycharm": {
     "name": "#%% md\n"
    }
   },
   "source": [
    "### Step 7. What was the quantity of the most expensive item ordered?"
   ]
  },
  {
   "cell_type": "code",
   "execution_count": 33,
   "metadata": {
    "collapsed": false,
    "pycharm": {
     "name": "#%%\n"
    }
   },
   "outputs": [
    {
     "data": {
      "text/plain": "      order_id  quantity            item_name  \\\n607        250         1     Steak Salad Bowl   \n1418       576         1  Barbacoa Salad Bowl   \n1421       576         1  Barbacoa Salad Bowl   \n1825       738         1  Barbacoa Salad Bowl   \n1865       756         1  Carnitas Salad Bowl   \n2600      1032         1     Steak Salad Bowl   \n2624      1042         1     Steak Salad Bowl   \n3098      1235         1     Steak Salad Bowl   \n3115      1243         1  Carnitas Salad Bowl   \n3356      1346         1  Barbacoa Salad Bowl   \n4036      1615         1     Steak Salad Bowl   \n4241      1693         1     Steak Salad Bowl   \n4390      1751         1  Barbacoa Salad Bowl   \n4391      1752         1     Steak Salad Bowl   \n4419      1762         1     Steak Salad Bowl   \n4547      1807         1     Steak Salad Bowl   \n4572      1818         1     Steak Salad Bowl   \n\n                                     choice_description item_price  \n607                       [Fresh Tomato Salsa, Lettuce]     $9.39   \n1418                         [Roasted Chili Corn Salsa]     $9.39   \n1421                         [Roasted Chili Corn Salsa]     $9.39   \n1825  [Fresh Tomato Salsa, [Rice, Pinto Beans, Chees...     $9.39   \n1865   [Fresh Tomato Salsa, [Rice, Cheese, Sour Cream]]     $9.39   \n2600  [Fresh Tomato Salsa, [Fajita Vegetables, Lettu...     $9.39   \n2624  [Fresh Tomato Salsa, [Black Beans, Sour Cream,...     $9.39   \n3098  [Roasted Chili Corn Salsa, [Rice, Black Beans,...     $9.39   \n3115  [Tomatillo Green Chili Salsa, [Rice, Pinto Bea...     $9.39   \n3356  [Fresh Tomato Salsa, [Rice, Black Beans, Chees...     $9.39   \n4036  [Fresh Tomato Salsa, [Fajita Vegetables, Chees...     $9.39   \n4241  [Roasted Chili Corn Salsa, [Fajita Vegetables,...     $9.39   \n4390  [Tomatillo Green Chili Salsa, [Fajita Vegetabl...     $9.39   \n4391  [Fresh Tomato Salsa, [Black Beans, Pinto Beans...     $9.39   \n4419  [Roasted Chili Corn Salsa, [Fajita Vegetables,...     $9.39   \n4547  [Roasted Chili Corn Salsa, [Fajita Vegetables,...     $9.39   \n4572  [Fresh Tomato Salsa, [Fajita Vegetables, Lettu...     $9.39   ",
      "text/html": "<div>\n<style scoped>\n    .dataframe tbody tr th:only-of-type {\n        vertical-align: middle;\n    }\n\n    .dataframe tbody tr th {\n        vertical-align: top;\n    }\n\n    .dataframe thead th {\n        text-align: right;\n    }\n</style>\n<table border=\"1\" class=\"dataframe\">\n  <thead>\n    <tr style=\"text-align: right;\">\n      <th></th>\n      <th>order_id</th>\n      <th>quantity</th>\n      <th>item_name</th>\n      <th>choice_description</th>\n      <th>item_price</th>\n    </tr>\n  </thead>\n  <tbody>\n    <tr>\n      <th>607</th>\n      <td>250</td>\n      <td>1</td>\n      <td>Steak Salad Bowl</td>\n      <td>[Fresh Tomato Salsa, Lettuce]</td>\n      <td>$9.39</td>\n    </tr>\n    <tr>\n      <th>1418</th>\n      <td>576</td>\n      <td>1</td>\n      <td>Barbacoa Salad Bowl</td>\n      <td>[Roasted Chili Corn Salsa]</td>\n      <td>$9.39</td>\n    </tr>\n    <tr>\n      <th>1421</th>\n      <td>576</td>\n      <td>1</td>\n      <td>Barbacoa Salad Bowl</td>\n      <td>[Roasted Chili Corn Salsa]</td>\n      <td>$9.39</td>\n    </tr>\n    <tr>\n      <th>1825</th>\n      <td>738</td>\n      <td>1</td>\n      <td>Barbacoa Salad Bowl</td>\n      <td>[Fresh Tomato Salsa, [Rice, Pinto Beans, Chees...</td>\n      <td>$9.39</td>\n    </tr>\n    <tr>\n      <th>1865</th>\n      <td>756</td>\n      <td>1</td>\n      <td>Carnitas Salad Bowl</td>\n      <td>[Fresh Tomato Salsa, [Rice, Cheese, Sour Cream]]</td>\n      <td>$9.39</td>\n    </tr>\n    <tr>\n      <th>2600</th>\n      <td>1032</td>\n      <td>1</td>\n      <td>Steak Salad Bowl</td>\n      <td>[Fresh Tomato Salsa, [Fajita Vegetables, Lettu...</td>\n      <td>$9.39</td>\n    </tr>\n    <tr>\n      <th>2624</th>\n      <td>1042</td>\n      <td>1</td>\n      <td>Steak Salad Bowl</td>\n      <td>[Fresh Tomato Salsa, [Black Beans, Sour Cream,...</td>\n      <td>$9.39</td>\n    </tr>\n    <tr>\n      <th>3098</th>\n      <td>1235</td>\n      <td>1</td>\n      <td>Steak Salad Bowl</td>\n      <td>[Roasted Chili Corn Salsa, [Rice, Black Beans,...</td>\n      <td>$9.39</td>\n    </tr>\n    <tr>\n      <th>3115</th>\n      <td>1243</td>\n      <td>1</td>\n      <td>Carnitas Salad Bowl</td>\n      <td>[Tomatillo Green Chili Salsa, [Rice, Pinto Bea...</td>\n      <td>$9.39</td>\n    </tr>\n    <tr>\n      <th>3356</th>\n      <td>1346</td>\n      <td>1</td>\n      <td>Barbacoa Salad Bowl</td>\n      <td>[Fresh Tomato Salsa, [Rice, Black Beans, Chees...</td>\n      <td>$9.39</td>\n    </tr>\n    <tr>\n      <th>4036</th>\n      <td>1615</td>\n      <td>1</td>\n      <td>Steak Salad Bowl</td>\n      <td>[Fresh Tomato Salsa, [Fajita Vegetables, Chees...</td>\n      <td>$9.39</td>\n    </tr>\n    <tr>\n      <th>4241</th>\n      <td>1693</td>\n      <td>1</td>\n      <td>Steak Salad Bowl</td>\n      <td>[Roasted Chili Corn Salsa, [Fajita Vegetables,...</td>\n      <td>$9.39</td>\n    </tr>\n    <tr>\n      <th>4390</th>\n      <td>1751</td>\n      <td>1</td>\n      <td>Barbacoa Salad Bowl</td>\n      <td>[Tomatillo Green Chili Salsa, [Fajita Vegetabl...</td>\n      <td>$9.39</td>\n    </tr>\n    <tr>\n      <th>4391</th>\n      <td>1752</td>\n      <td>1</td>\n      <td>Steak Salad Bowl</td>\n      <td>[Fresh Tomato Salsa, [Black Beans, Pinto Beans...</td>\n      <td>$9.39</td>\n    </tr>\n    <tr>\n      <th>4419</th>\n      <td>1762</td>\n      <td>1</td>\n      <td>Steak Salad Bowl</td>\n      <td>[Roasted Chili Corn Salsa, [Fajita Vegetables,...</td>\n      <td>$9.39</td>\n    </tr>\n    <tr>\n      <th>4547</th>\n      <td>1807</td>\n      <td>1</td>\n      <td>Steak Salad Bowl</td>\n      <td>[Roasted Chili Corn Salsa, [Fajita Vegetables,...</td>\n      <td>$9.39</td>\n    </tr>\n    <tr>\n      <th>4572</th>\n      <td>1818</td>\n      <td>1</td>\n      <td>Steak Salad Bowl</td>\n      <td>[Fresh Tomato Salsa, [Fajita Vegetables, Lettu...</td>\n      <td>$9.39</td>\n    </tr>\n  </tbody>\n</table>\n</div>"
     },
     "execution_count": 33,
     "metadata": {},
     "output_type": "execute_result"
    }
   ],
   "source": [
    "chipo[chipo['item_price']==chipo['item_price'].max()]"
   ]
  },
  {
   "cell_type": "markdown",
   "metadata": {
    "pycharm": {
     "name": "#%% md\n"
    }
   },
   "source": [
    "### Step 8. How many times was a Veggie Salad Bowl ordered?"
   ]
  },
  {
   "cell_type": "code",
   "execution_count": 37,
   "metadata": {
    "collapsed": false,
    "pycharm": {
     "name": "#%%\n"
    }
   },
   "outputs": [
    {
     "data": {
      "text/plain": "18"
     },
     "execution_count": 37,
     "metadata": {},
     "output_type": "execute_result"
    }
   ],
   "source": [
    "chipo[chipo['item_name']=='Veggie Salad Bowl']['order_id'].count()"
   ]
  },
  {
   "cell_type": "markdown",
   "metadata": {
    "pycharm": {
     "name": "#%% md\n"
    }
   },
   "source": [
    "### Step 9. How many times did someone order more than one Canned Soda?"
   ]
  },
  {
   "cell_type": "code",
   "execution_count": 40,
   "metadata": {
    "collapsed": false,
    "pycharm": {
     "name": "#%%\n"
    }
   },
   "outputs": [
    {
     "data": {
      "text/plain": "20"
     },
     "execution_count": 40,
     "metadata": {},
     "output_type": "execute_result"
    }
   ],
   "source": [
    "chipo[(chipo['item_name']=='Canned Soda') & (chipo['quantity']>1)].shape[0]"
   ]
  },
  {
   "cell_type": "code",
   "execution_count": null,
   "outputs": [],
   "source": [],
   "metadata": {
    "collapsed": false,
    "pycharm": {
     "name": "#%%\n"
    }
   }
  }
 ],
 "metadata": {
  "kernelspec": {
   "name": "python3",
   "language": "python",
   "display_name": "Python 3 (ipykernel)"
  },
  "language_info": {
   "codemirror_mode": {
    "name": "ipython",
    "version": 2
   },
   "file_extension": ".py",
   "mimetype": "text/x-python",
   "name": "python",
   "nbconvert_exporter": "python",
   "pygments_lexer": "ipython2",
   "version": "2.7.11"
  }
 },
 "nbformat": 4,
 "nbformat_minor": 0
}