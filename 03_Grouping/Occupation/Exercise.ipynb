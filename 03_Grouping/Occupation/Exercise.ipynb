{
 "cells": [
  {
   "cell_type": "markdown",
   "metadata": {
    "pycharm": {
     "name": "#%% md\n"
    }
   },
   "source": [
    "# Occupation"
   ]
  },
  {
   "cell_type": "markdown",
   "metadata": {
    "pycharm": {
     "name": "#%% md\n"
    }
   },
   "source": [
    "### Introduction:\n",
    "\n",
    "Special thanks to: https://github.com/justmarkham for sharing the dataset and materials.\n",
    "\n",
    "### Step 1. Import the necessary libraries"
   ]
  },
  {
   "cell_type": "code",
   "execution_count": 3,
   "outputs": [],
   "source": [
    "import pandas as pd"
   ],
   "metadata": {
    "collapsed": false,
    "pycharm": {
     "name": "#%%\n"
    }
   }
  },
  {
   "cell_type": "markdown",
   "metadata": {
    "pycharm": {
     "name": "#%% md\n"
    }
   },
   "source": [
    "### Step 2. Import the dataset from this [address](https://raw.githubusercontent.com/justmarkham/DAT8/master/data/u.user). "
   ]
  },
  {
   "cell_type": "markdown",
   "metadata": {
    "pycharm": {
     "name": "#%% md\n"
    }
   },
   "source": [
    "### Step 3. Assign it to a variable called users."
   ]
  },
  {
   "cell_type": "code",
   "execution_count": 4,
   "metadata": {
    "collapsed": false,
    "pycharm": {
     "name": "#%%\n"
    }
   },
   "outputs": [],
   "source": [
    "users = pd.read_csv('https://raw.githubusercontent.com/justmarkham/DAT8/master/data/u.user', sep='|')"
   ]
  },
  {
   "cell_type": "markdown",
   "metadata": {
    "pycharm": {
     "name": "#%% md\n"
    }
   },
   "source": [
    "### Step 4. Discover what is the mean age per occupation"
   ]
  },
  {
   "cell_type": "code",
   "execution_count": 5,
   "metadata": {
    "collapsed": false,
    "pycharm": {
     "name": "#%%\n"
    }
   },
   "outputs": [
    {
     "data": {
      "text/plain": "     user_id  age gender     occupation zip_code\n0          1   24      M     technician    85711\n1          2   53      F          other    94043\n2          3   23      M         writer    32067\n3          4   24      M     technician    43537\n4          5   33      F          other    15213\n..       ...  ...    ...            ...      ...\n938      939   26      F        student    33319\n939      940   32      M  administrator    02215\n940      941   20      M        student    97229\n941      942   48      F      librarian    78209\n942      943   22      M        student    77841\n\n[943 rows x 5 columns]",
      "text/html": "<div>\n<style scoped>\n    .dataframe tbody tr th:only-of-type {\n        vertical-align: middle;\n    }\n\n    .dataframe tbody tr th {\n        vertical-align: top;\n    }\n\n    .dataframe thead th {\n        text-align: right;\n    }\n</style>\n<table border=\"1\" class=\"dataframe\">\n  <thead>\n    <tr style=\"text-align: right;\">\n      <th></th>\n      <th>user_id</th>\n      <th>age</th>\n      <th>gender</th>\n      <th>occupation</th>\n      <th>zip_code</th>\n    </tr>\n  </thead>\n  <tbody>\n    <tr>\n      <th>0</th>\n      <td>1</td>\n      <td>24</td>\n      <td>M</td>\n      <td>technician</td>\n      <td>85711</td>\n    </tr>\n    <tr>\n      <th>1</th>\n      <td>2</td>\n      <td>53</td>\n      <td>F</td>\n      <td>other</td>\n      <td>94043</td>\n    </tr>\n    <tr>\n      <th>2</th>\n      <td>3</td>\n      <td>23</td>\n      <td>M</td>\n      <td>writer</td>\n      <td>32067</td>\n    </tr>\n    <tr>\n      <th>3</th>\n      <td>4</td>\n      <td>24</td>\n      <td>M</td>\n      <td>technician</td>\n      <td>43537</td>\n    </tr>\n    <tr>\n      <th>4</th>\n      <td>5</td>\n      <td>33</td>\n      <td>F</td>\n      <td>other</td>\n      <td>15213</td>\n    </tr>\n    <tr>\n      <th>...</th>\n      <td>...</td>\n      <td>...</td>\n      <td>...</td>\n      <td>...</td>\n      <td>...</td>\n    </tr>\n    <tr>\n      <th>938</th>\n      <td>939</td>\n      <td>26</td>\n      <td>F</td>\n      <td>student</td>\n      <td>33319</td>\n    </tr>\n    <tr>\n      <th>939</th>\n      <td>940</td>\n      <td>32</td>\n      <td>M</td>\n      <td>administrator</td>\n      <td>02215</td>\n    </tr>\n    <tr>\n      <th>940</th>\n      <td>941</td>\n      <td>20</td>\n      <td>M</td>\n      <td>student</td>\n      <td>97229</td>\n    </tr>\n    <tr>\n      <th>941</th>\n      <td>942</td>\n      <td>48</td>\n      <td>F</td>\n      <td>librarian</td>\n      <td>78209</td>\n    </tr>\n    <tr>\n      <th>942</th>\n      <td>943</td>\n      <td>22</td>\n      <td>M</td>\n      <td>student</td>\n      <td>77841</td>\n    </tr>\n  </tbody>\n</table>\n<p>943 rows × 5 columns</p>\n</div>"
     },
     "execution_count": 5,
     "metadata": {},
     "output_type": "execute_result"
    }
   ],
   "source": [
    "users"
   ]
  },
  {
   "cell_type": "code",
   "execution_count": 6,
   "outputs": [
    {
     "data": {
      "text/plain": "occupation\nadministrator    38.746835\nartist           31.392857\ndoctor           43.571429\neducator         42.010526\nengineer         36.388060\nentertainment    29.222222\nexecutive        38.718750\nhealthcare       41.562500\nhomemaker        32.571429\nlawyer           36.750000\nlibrarian        40.000000\nmarketing        37.615385\nnone             26.555556\nother            34.523810\nprogrammer       33.121212\nretired          63.071429\nsalesman         35.666667\nscientist        35.548387\nstudent          22.081633\ntechnician       33.148148\nwriter           36.311111\nName: age, dtype: float64"
     },
     "execution_count": 6,
     "metadata": {},
     "output_type": "execute_result"
    }
   ],
   "source": [
    "users.groupby('occupation')['age'].mean()"
   ],
   "metadata": {
    "collapsed": false,
    "pycharm": {
     "name": "#%%\n"
    }
   }
  },
  {
   "cell_type": "markdown",
   "metadata": {
    "pycharm": {
     "name": "#%% md\n"
    }
   },
   "source": [
    "### Step 5. Discover the Male ratio per occupation and sort it from the most to the least"
   ]
  },
  {
   "cell_type": "code",
   "execution_count": 7,
   "metadata": {
    "collapsed": false,
    "pycharm": {
     "name": "#%%\n"
    }
   },
   "outputs": [
    {
     "data": {
      "text/plain": "occupation\nadministrator    0.544304\nartist           0.535714\ndoctor           1.000000\neducator         0.726316\nengineer         0.970149\nentertainment    0.888889\nexecutive        0.906250\nhealthcare       0.312500\nhomemaker        0.142857\nlawyer           0.833333\nlibrarian        0.431373\nmarketing        0.615385\nnone             0.555556\nother            0.657143\nprogrammer       0.909091\nretired          0.928571\nsalesman         0.750000\nscientist        0.903226\nstudent          0.693878\ntechnician       0.962963\nwriter           0.577778\nName: gender, dtype: float64"
     },
     "execution_count": 7,
     "metadata": {},
     "output_type": "execute_result"
    }
   ],
   "source": [
    "users[users['gender']=='M'].groupby('occupation')['gender'].count() / users.groupby('occupation')['gender'].count()"
   ]
  },
  {
   "cell_type": "markdown",
   "metadata": {
    "pycharm": {
     "name": "#%% md\n"
    }
   },
   "source": [
    "### Step 6. For each occupation, calculate the minimum and maximum ages"
   ]
  },
  {
   "cell_type": "code",
   "execution_count": 8,
   "metadata": {
    "collapsed": false,
    "pycharm": {
     "name": "#%%\n"
    }
   },
   "outputs": [
    {
     "data": {
      "text/plain": "               min  max\noccupation             \nadministrator   21   70\nartist          19   48\ndoctor          28   64\neducator        23   63\nengineer        22   70\nentertainment   15   50\nexecutive       22   69\nhealthcare      22   62\nhomemaker       20   50\nlawyer          21   53\nlibrarian       23   69\nmarketing       24   55\nnone            11   55\nother           13   64\nprogrammer      20   63\nretired         51   73\nsalesman        18   66\nscientist       23   55\nstudent          7   42\ntechnician      21   55\nwriter          18   60",
      "text/html": "<div>\n<style scoped>\n    .dataframe tbody tr th:only-of-type {\n        vertical-align: middle;\n    }\n\n    .dataframe tbody tr th {\n        vertical-align: top;\n    }\n\n    .dataframe thead th {\n        text-align: right;\n    }\n</style>\n<table border=\"1\" class=\"dataframe\">\n  <thead>\n    <tr style=\"text-align: right;\">\n      <th></th>\n      <th>min</th>\n      <th>max</th>\n    </tr>\n    <tr>\n      <th>occupation</th>\n      <th></th>\n      <th></th>\n    </tr>\n  </thead>\n  <tbody>\n    <tr>\n      <th>administrator</th>\n      <td>21</td>\n      <td>70</td>\n    </tr>\n    <tr>\n      <th>artist</th>\n      <td>19</td>\n      <td>48</td>\n    </tr>\n    <tr>\n      <th>doctor</th>\n      <td>28</td>\n      <td>64</td>\n    </tr>\n    <tr>\n      <th>educator</th>\n      <td>23</td>\n      <td>63</td>\n    </tr>\n    <tr>\n      <th>engineer</th>\n      <td>22</td>\n      <td>70</td>\n    </tr>\n    <tr>\n      <th>entertainment</th>\n      <td>15</td>\n      <td>50</td>\n    </tr>\n    <tr>\n      <th>executive</th>\n      <td>22</td>\n      <td>69</td>\n    </tr>\n    <tr>\n      <th>healthcare</th>\n      <td>22</td>\n      <td>62</td>\n    </tr>\n    <tr>\n      <th>homemaker</th>\n      <td>20</td>\n      <td>50</td>\n    </tr>\n    <tr>\n      <th>lawyer</th>\n      <td>21</td>\n      <td>53</td>\n    </tr>\n    <tr>\n      <th>librarian</th>\n      <td>23</td>\n      <td>69</td>\n    </tr>\n    <tr>\n      <th>marketing</th>\n      <td>24</td>\n      <td>55</td>\n    </tr>\n    <tr>\n      <th>none</th>\n      <td>11</td>\n      <td>55</td>\n    </tr>\n    <tr>\n      <th>other</th>\n      <td>13</td>\n      <td>64</td>\n    </tr>\n    <tr>\n      <th>programmer</th>\n      <td>20</td>\n      <td>63</td>\n    </tr>\n    <tr>\n      <th>retired</th>\n      <td>51</td>\n      <td>73</td>\n    </tr>\n    <tr>\n      <th>salesman</th>\n      <td>18</td>\n      <td>66</td>\n    </tr>\n    <tr>\n      <th>scientist</th>\n      <td>23</td>\n      <td>55</td>\n    </tr>\n    <tr>\n      <th>student</th>\n      <td>7</td>\n      <td>42</td>\n    </tr>\n    <tr>\n      <th>technician</th>\n      <td>21</td>\n      <td>55</td>\n    </tr>\n    <tr>\n      <th>writer</th>\n      <td>18</td>\n      <td>60</td>\n    </tr>\n  </tbody>\n</table>\n</div>"
     },
     "execution_count": 8,
     "metadata": {},
     "output_type": "execute_result"
    }
   ],
   "source": [
    "users.groupby('occupation')['age'].agg(['min', 'max'])"
   ]
  },
  {
   "cell_type": "markdown",
   "metadata": {
    "pycharm": {
     "name": "#%% md\n"
    }
   },
   "source": [
    "### Step 7. For each combination of occupation and gender, calculate the mean age"
   ]
  },
  {
   "cell_type": "code",
   "execution_count": 9,
   "metadata": {
    "collapsed": false,
    "pycharm": {
     "name": "#%%\n"
    }
   },
   "outputs": [
    {
     "data": {
      "text/plain": "occupation     gender\nadministrator  F         40.638889\n               M         37.162791\nartist         F         30.307692\n               M         32.333333\ndoctor         M         43.571429\neducator       F         39.115385\n               M         43.101449\nengineer       F         29.500000\n               M         36.600000\nentertainment  F         31.000000\n               M         29.000000\nexecutive      F         44.000000\n               M         38.172414\nhealthcare     F         39.818182\n               M         45.400000\nhomemaker      F         34.166667\n               M         23.000000\nlawyer         F         39.500000\n               M         36.200000\nlibrarian      F         40.000000\n               M         40.000000\nmarketing      F         37.200000\n               M         37.875000\nnone           F         36.500000\n               M         18.600000\nother          F         35.472222\n               M         34.028986\nprogrammer     F         32.166667\n               M         33.216667\nretired        F         70.000000\n               M         62.538462\nsalesman       F         27.000000\n               M         38.555556\nscientist      F         28.333333\n               M         36.321429\nstudent        F         20.750000\n               M         22.669118\ntechnician     F         38.000000\n               M         32.961538\nwriter         F         37.631579\n               M         35.346154\nName: age, dtype: float64"
     },
     "execution_count": 9,
     "metadata": {},
     "output_type": "execute_result"
    }
   ],
   "source": [
    "users.groupby(['occupation', 'gender'])['age'].mean()"
   ]
  },
  {
   "cell_type": "markdown",
   "metadata": {
    "pycharm": {
     "name": "#%% md\n"
    }
   },
   "source": [
    "### Step 8.  For each occupation present the percentage of women and men"
   ]
  },
  {
   "cell_type": "code",
   "execution_count": 9,
   "metadata": {
    "collapsed": false,
    "pycharm": {
     "name": "#%%\n"
    }
   },
   "outputs": [],
   "source": []
  },
  {
   "cell_type": "code",
   "execution_count": 16,
   "outputs": [
    {
     "data": {
      "text/plain": "occupation     gender\nadministrator  F          36\n               M          43\nartist         F          13\n               M          15\ndoctor         M           7\neducator       F          26\n               M          69\nengineer       F           2\n               M          65\nentertainment  F           2\n               M          16\nexecutive      F           3\n               M          29\nhealthcare     F          11\n               M           5\nhomemaker      F           6\n               M           1\nlawyer         F           2\n               M          10\nlibrarian      F          29\n               M          22\nmarketing      F          10\n               M          16\nnone           F           4\n               M           5\nother          F          36\n               M          69\nprogrammer     F           6\n               M          60\nretired        F           1\n               M          13\nsalesman       F           3\n               M           9\nscientist      F           3\n               M          28\nstudent        F          60\n               M         136\ntechnician     F           1\n               M          26\nwriter         F          19\n               M          26\nName: age, dtype: int64"
     },
     "execution_count": 16,
     "metadata": {},
     "output_type": "execute_result"
    }
   ],
   "source": [
    "users.groupby(['occupation', 'gender'])['age'].apply(lambda x: x)"
   ],
   "metadata": {
    "collapsed": false,
    "pycharm": {
     "name": "#%%\n"
    }
   }
  },
  {
   "cell_type": "code",
   "execution_count": 15,
   "outputs": [
    {
     "data": {
      "text/plain": "       occupation gender  age       res\n0   administrator      F   36  0.038176\n1   administrator      M   43  0.045599\n2          artist      F   13  0.013786\n3          artist      M   15  0.015907\n4          doctor      M    7  0.007423\n5        educator      F   26  0.027572\n6        educator      M   69  0.073171\n7        engineer      F    2  0.002121\n8        engineer      M   65  0.068929\n9   entertainment      F    2  0.002121\n10  entertainment      M   16  0.016967\n11      executive      F    3  0.003181\n12      executive      M   29  0.030753\n13     healthcare      F   11  0.011665\n14     healthcare      M    5  0.005302\n15      homemaker      F    6  0.006363\n16      homemaker      M    1  0.001060\n17         lawyer      F    2  0.002121\n18         lawyer      M   10  0.010604\n19      librarian      F   29  0.030753\n20      librarian      M   22  0.023330\n21      marketing      F   10  0.010604\n22      marketing      M   16  0.016967\n23           none      F    4  0.004242\n24           none      M    5  0.005302\n25          other      F   36  0.038176\n26          other      M   69  0.073171\n27     programmer      F    6  0.006363\n28     programmer      M   60  0.063627\n29        retired      F    1  0.001060\n30        retired      M   13  0.013786\n31       salesman      F    3  0.003181\n32       salesman      M    9  0.009544\n33      scientist      F    3  0.003181\n34      scientist      M   28  0.029692\n35        student      F   60  0.063627\n36        student      M  136  0.144221\n37     technician      F    1  0.001060\n38     technician      M   26  0.027572\n39         writer      F   19  0.020148\n40         writer      M   26  0.027572",
      "text/html": "<div>\n<style scoped>\n    .dataframe tbody tr th:only-of-type {\n        vertical-align: middle;\n    }\n\n    .dataframe tbody tr th {\n        vertical-align: top;\n    }\n\n    .dataframe thead th {\n        text-align: right;\n    }\n</style>\n<table border=\"1\" class=\"dataframe\">\n  <thead>\n    <tr style=\"text-align: right;\">\n      <th></th>\n      <th>occupation</th>\n      <th>gender</th>\n      <th>age</th>\n      <th>res</th>\n    </tr>\n  </thead>\n  <tbody>\n    <tr>\n      <th>0</th>\n      <td>administrator</td>\n      <td>F</td>\n      <td>36</td>\n      <td>0.038176</td>\n    </tr>\n    <tr>\n      <th>1</th>\n      <td>administrator</td>\n      <td>M</td>\n      <td>43</td>\n      <td>0.045599</td>\n    </tr>\n    <tr>\n      <th>2</th>\n      <td>artist</td>\n      <td>F</td>\n      <td>13</td>\n      <td>0.013786</td>\n    </tr>\n    <tr>\n      <th>3</th>\n      <td>artist</td>\n      <td>M</td>\n      <td>15</td>\n      <td>0.015907</td>\n    </tr>\n    <tr>\n      <th>4</th>\n      <td>doctor</td>\n      <td>M</td>\n      <td>7</td>\n      <td>0.007423</td>\n    </tr>\n    <tr>\n      <th>5</th>\n      <td>educator</td>\n      <td>F</td>\n      <td>26</td>\n      <td>0.027572</td>\n    </tr>\n    <tr>\n      <th>6</th>\n      <td>educator</td>\n      <td>M</td>\n      <td>69</td>\n      <td>0.073171</td>\n    </tr>\n    <tr>\n      <th>7</th>\n      <td>engineer</td>\n      <td>F</td>\n      <td>2</td>\n      <td>0.002121</td>\n    </tr>\n    <tr>\n      <th>8</th>\n      <td>engineer</td>\n      <td>M</td>\n      <td>65</td>\n      <td>0.068929</td>\n    </tr>\n    <tr>\n      <th>9</th>\n      <td>entertainment</td>\n      <td>F</td>\n      <td>2</td>\n      <td>0.002121</td>\n    </tr>\n    <tr>\n      <th>10</th>\n      <td>entertainment</td>\n      <td>M</td>\n      <td>16</td>\n      <td>0.016967</td>\n    </tr>\n    <tr>\n      <th>11</th>\n      <td>executive</td>\n      <td>F</td>\n      <td>3</td>\n      <td>0.003181</td>\n    </tr>\n    <tr>\n      <th>12</th>\n      <td>executive</td>\n      <td>M</td>\n      <td>29</td>\n      <td>0.030753</td>\n    </tr>\n    <tr>\n      <th>13</th>\n      <td>healthcare</td>\n      <td>F</td>\n      <td>11</td>\n      <td>0.011665</td>\n    </tr>\n    <tr>\n      <th>14</th>\n      <td>healthcare</td>\n      <td>M</td>\n      <td>5</td>\n      <td>0.005302</td>\n    </tr>\n    <tr>\n      <th>15</th>\n      <td>homemaker</td>\n      <td>F</td>\n      <td>6</td>\n      <td>0.006363</td>\n    </tr>\n    <tr>\n      <th>16</th>\n      <td>homemaker</td>\n      <td>M</td>\n      <td>1</td>\n      <td>0.001060</td>\n    </tr>\n    <tr>\n      <th>17</th>\n      <td>lawyer</td>\n      <td>F</td>\n      <td>2</td>\n      <td>0.002121</td>\n    </tr>\n    <tr>\n      <th>18</th>\n      <td>lawyer</td>\n      <td>M</td>\n      <td>10</td>\n      <td>0.010604</td>\n    </tr>\n    <tr>\n      <th>19</th>\n      <td>librarian</td>\n      <td>F</td>\n      <td>29</td>\n      <td>0.030753</td>\n    </tr>\n    <tr>\n      <th>20</th>\n      <td>librarian</td>\n      <td>M</td>\n      <td>22</td>\n      <td>0.023330</td>\n    </tr>\n    <tr>\n      <th>21</th>\n      <td>marketing</td>\n      <td>F</td>\n      <td>10</td>\n      <td>0.010604</td>\n    </tr>\n    <tr>\n      <th>22</th>\n      <td>marketing</td>\n      <td>M</td>\n      <td>16</td>\n      <td>0.016967</td>\n    </tr>\n    <tr>\n      <th>23</th>\n      <td>none</td>\n      <td>F</td>\n      <td>4</td>\n      <td>0.004242</td>\n    </tr>\n    <tr>\n      <th>24</th>\n      <td>none</td>\n      <td>M</td>\n      <td>5</td>\n      <td>0.005302</td>\n    </tr>\n    <tr>\n      <th>25</th>\n      <td>other</td>\n      <td>F</td>\n      <td>36</td>\n      <td>0.038176</td>\n    </tr>\n    <tr>\n      <th>26</th>\n      <td>other</td>\n      <td>M</td>\n      <td>69</td>\n      <td>0.073171</td>\n    </tr>\n    <tr>\n      <th>27</th>\n      <td>programmer</td>\n      <td>F</td>\n      <td>6</td>\n      <td>0.006363</td>\n    </tr>\n    <tr>\n      <th>28</th>\n      <td>programmer</td>\n      <td>M</td>\n      <td>60</td>\n      <td>0.063627</td>\n    </tr>\n    <tr>\n      <th>29</th>\n      <td>retired</td>\n      <td>F</td>\n      <td>1</td>\n      <td>0.001060</td>\n    </tr>\n    <tr>\n      <th>30</th>\n      <td>retired</td>\n      <td>M</td>\n      <td>13</td>\n      <td>0.013786</td>\n    </tr>\n    <tr>\n      <th>31</th>\n      <td>salesman</td>\n      <td>F</td>\n      <td>3</td>\n      <td>0.003181</td>\n    </tr>\n    <tr>\n      <th>32</th>\n      <td>salesman</td>\n      <td>M</td>\n      <td>9</td>\n      <td>0.009544</td>\n    </tr>\n    <tr>\n      <th>33</th>\n      <td>scientist</td>\n      <td>F</td>\n      <td>3</td>\n      <td>0.003181</td>\n    </tr>\n    <tr>\n      <th>34</th>\n      <td>scientist</td>\n      <td>M</td>\n      <td>28</td>\n      <td>0.029692</td>\n    </tr>\n    <tr>\n      <th>35</th>\n      <td>student</td>\n      <td>F</td>\n      <td>60</td>\n      <td>0.063627</td>\n    </tr>\n    <tr>\n      <th>36</th>\n      <td>student</td>\n      <td>M</td>\n      <td>136</td>\n      <td>0.144221</td>\n    </tr>\n    <tr>\n      <th>37</th>\n      <td>technician</td>\n      <td>F</td>\n      <td>1</td>\n      <td>0.001060</td>\n    </tr>\n    <tr>\n      <th>38</th>\n      <td>technician</td>\n      <td>M</td>\n      <td>26</td>\n      <td>0.027572</td>\n    </tr>\n    <tr>\n      <th>39</th>\n      <td>writer</td>\n      <td>F</td>\n      <td>19</td>\n      <td>0.020148</td>\n    </tr>\n    <tr>\n      <th>40</th>\n      <td>writer</td>\n      <td>M</td>\n      <td>26</td>\n      <td>0.027572</td>\n    </tr>\n  </tbody>\n</table>\n</div>"
     },
     "execution_count": 15,
     "metadata": {},
     "output_type": "execute_result"
    }
   ],
   "source": [
    "users.groupby(['occupation', 'gender'])['age'].count().reset_index().assign(res=lambda x: x['age'] / x['age'].sum())"
   ],
   "metadata": {
    "collapsed": false,
    "pycharm": {
     "name": "#%%\n"
    }
   }
  },
  {
   "cell_type": "code",
   "execution_count": 10,
   "outputs": [],
   "source": [],
   "metadata": {
    "collapsed": false,
    "pycharm": {
     "name": "#%%\n"
    }
   }
  }
 ],
 "metadata": {
  "kernelspec": {
   "name": "python3",
   "language": "python",
   "display_name": "Python 3 (ipykernel)"
  },
  "language_info": {
   "codemirror_mode": {
    "name": "ipython",
    "version": 2
   },
   "file_extension": ".py",
   "mimetype": "text/x-python",
   "name": "python",
   "nbconvert_exporter": "python",
   "pygments_lexer": "ipython2",
   "version": "2.7.11"
  }
 },
 "nbformat": 4,
 "nbformat_minor": 0
}