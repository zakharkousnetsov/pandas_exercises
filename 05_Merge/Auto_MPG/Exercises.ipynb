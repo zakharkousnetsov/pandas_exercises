{
 "cells": [
  {
   "cell_type": "markdown",
   "metadata": {
    "pycharm": {
     "name": "#%% md\n"
    }
   },
   "source": [
    "# MPG Cars"
   ]
  },
  {
   "cell_type": "markdown",
   "metadata": {
    "pycharm": {
     "name": "#%% md\n"
    }
   },
   "source": [
    "### Introduction:\n",
    "\n",
    "The following exercise utilizes data from [UC Irvine Machine Learning Repository](https://archive.ics.uci.edu/ml/datasets/Auto+MPG)\n",
    "\n",
    "### Step 1. Import the necessary libraries"
   ]
  },
  {
   "cell_type": "code",
   "execution_count": 51,
   "metadata": {
    "collapsed": false,
    "pycharm": {
     "name": "#%%\n"
    }
   },
   "outputs": [],
   "source": [
    "import pandas as pd\n",
    "import numpy as np"
   ]
  },
  {
   "cell_type": "markdown",
   "metadata": {
    "pycharm": {
     "name": "#%% md\n"
    }
   },
   "source": [
    "### Step 2. Import the first dataset [cars1](https://raw.githubusercontent.com/guipsamora/pandas_exercises/master/05_Merge/Auto_MPG/cars1.csv) and [cars2](https://raw.githubusercontent.com/guipsamora/pandas_exercises/master/05_Merge/Auto_MPG/cars2.csv).  "
   ]
  },
  {
   "cell_type": "markdown",
   "metadata": {
    "pycharm": {
     "name": "#%% md\n"
    }
   },
   "source": [
    "   ### Step 3. Assign each to a variable called cars1 and cars2"
   ]
  },
  {
   "cell_type": "code",
   "execution_count": 2,
   "metadata": {
    "collapsed": false,
    "pycharm": {
     "name": "#%%\n"
    }
   },
   "outputs": [],
   "source": [
    "cars1 = pd.read_csv('cars1.csv')\n",
    "cars2 = pd.read_csv('cars2.csv')"
   ]
  },
  {
   "cell_type": "code",
   "execution_count": 5,
   "outputs": [
    {
     "data": {
      "text/plain": "      mpg  cylinders  displacement horsepower  weight  acceleration  model  \\\n176  19.0          6           232         90    3211          17.0     75   \n150  26.0          4           108         93    2391          15.5     74   \n169  20.0          6           232        100    2914          16.0     75   \n28    9.0          8           304        193    4732          18.5     70   \n127  19.0          6           232        100    2901          16.0     74   \n137  13.0          8           350        150    4699          14.5     74   \n196  24.5          4            98         60    2164          22.1     76   \n118  24.0          4           116         75    2158          15.5     73   \n69   12.0          8           350        160    4456          13.5     72   \n44   13.0          8           400        175    5140          12.0     71   \n99   18.0          6           232        100    2945          16.0     73   \n57   24.0          4           113         95    2278          15.5     72   \n117  29.0          4            68         49    1867          19.5     73   \n122  24.0          4           121        110    2660          14.0     73   \n42   12.0          8           383        180    4955          11.5     71   \n29   27.0          4            97         88    2130          14.5     71   \n178  23.0          4           120         88    2957          17.0     75   \n106  12.0          8           350        180    4499          12.5     73   \n105  13.0          8           360        170    4654          13.0     73   \n75   14.0          8           318        150    4077          14.0     72   \n70   13.0          8           400        190    4422          12.5     72   \n91   13.0          8           400        150    4464          12.0     73   \n0    18.0          8           307        130    3504          12.0     70   \n35   17.0          6           250        100    3329          15.5     71   \n149  24.0          4           120         97    2489          15.0     74   \n38   14.0          8           350        165    4209          12.0     71   \n46   22.0          4           140         72    2408          19.0     71   \n153  18.0          6           250        105    3459          16.0     75   \n10   15.0          8           383        170    3563          10.0     70   \n33   19.0          6           232        100    2634          13.0     71   \n61   21.0          4           122         86    2226          16.5     72   \n110  22.0          4           108         94    2379          16.5     73   \n154  15.0          6           250         72    3432          21.0     75   \n\n     origin                             car  Unnamed: 9  Unnamed: 10  \\\n176       1                       amc pacer         NaN          NaN   \n150       3                          subaru         NaN          NaN   \n169       1                     amc gremlin         NaN          NaN   \n28        1                        hi 1200d         NaN          NaN   \n127       1                      amc hornet         NaN          NaN   \n137       1        buick century luxus (sw)         NaN          NaN   \n196       1                 chevrolet woody         NaN          NaN   \n118       2                      opel manta         NaN          NaN   \n69        1      oldsmobile delta 88 royale         NaN          NaN   \n44        1             pontiac safari (sw)         NaN          NaN   \n99        1                      amc hornet         NaN          NaN   \n57        3           toyota corona hardtop         NaN          NaN   \n117       2                        fiat 128         NaN          NaN   \n122       2                       saab 99le         NaN          NaN   \n42        1               dodge monaco (sw)         NaN          NaN   \n29        3                    datsun pl510         NaN          NaN   \n178       2                     peugeot 504         NaN          NaN   \n106       1        oldsmobile vista cruiser         NaN          NaN   \n105       1          plymouth custom suburb         NaN          NaN   \n75        1  plymouth satellite custom (sw)         NaN          NaN   \n70        1          chrysler newport royal         NaN          NaN   \n91        1       chevrolet caprice classic         NaN          NaN   \n0         1       chevrolet chevelle malibu         NaN          NaN   \n35        1       chevrolet chevelle malibu         NaN          NaN   \n149       3                     honda civic         NaN          NaN   \n38        1                chevrolet impala         NaN          NaN   \n46        1             chevrolet vega (sw)         NaN          NaN   \n153       1                  chevrolet nova         NaN          NaN   \n10        1             dodge challenger se         NaN          NaN   \n33        1                     amc gremlin         NaN          NaN   \n61        1             ford pinto runabout         NaN          NaN   \n110       3                      datsun 610         NaN          NaN   \n154       1                 mercury monarch         NaN          NaN   \n\n     Unnamed: 11  Unnamed: 12  Unnamed: 13  \n176          NaN          NaN          NaN  \n150          NaN          NaN          NaN  \n169          NaN          NaN          NaN  \n28           NaN          NaN          NaN  \n127          NaN          NaN          NaN  \n137          NaN          NaN          NaN  \n196          NaN          NaN          NaN  \n118          NaN          NaN          NaN  \n69           NaN          NaN          NaN  \n44           NaN          NaN          NaN  \n99           NaN          NaN          NaN  \n57           NaN          NaN          NaN  \n117          NaN          NaN          NaN  \n122          NaN          NaN          NaN  \n42           NaN          NaN          NaN  \n29           NaN          NaN          NaN  \n178          NaN          NaN          NaN  \n106          NaN          NaN          NaN  \n105          NaN          NaN          NaN  \n75           NaN          NaN          NaN  \n70           NaN          NaN          NaN  \n91           NaN          NaN          NaN  \n0            NaN          NaN          NaN  \n35           NaN          NaN          NaN  \n149          NaN          NaN          NaN  \n38           NaN          NaN          NaN  \n46           NaN          NaN          NaN  \n153          NaN          NaN          NaN  \n10           NaN          NaN          NaN  \n33           NaN          NaN          NaN  \n61           NaN          NaN          NaN  \n110          NaN          NaN          NaN  \n154          NaN          NaN          NaN  ",
      "text/html": "<div>\n<style scoped>\n    .dataframe tbody tr th:only-of-type {\n        vertical-align: middle;\n    }\n\n    .dataframe tbody tr th {\n        vertical-align: top;\n    }\n\n    .dataframe thead th {\n        text-align: right;\n    }\n</style>\n<table border=\"1\" class=\"dataframe\">\n  <thead>\n    <tr style=\"text-align: right;\">\n      <th></th>\n      <th>mpg</th>\n      <th>cylinders</th>\n      <th>displacement</th>\n      <th>horsepower</th>\n      <th>weight</th>\n      <th>acceleration</th>\n      <th>model</th>\n      <th>origin</th>\n      <th>car</th>\n      <th>Unnamed: 9</th>\n      <th>Unnamed: 10</th>\n      <th>Unnamed: 11</th>\n      <th>Unnamed: 12</th>\n      <th>Unnamed: 13</th>\n    </tr>\n  </thead>\n  <tbody>\n    <tr>\n      <th>176</th>\n      <td>19.0</td>\n      <td>6</td>\n      <td>232</td>\n      <td>90</td>\n      <td>3211</td>\n      <td>17.0</td>\n      <td>75</td>\n      <td>1</td>\n      <td>amc pacer</td>\n      <td>NaN</td>\n      <td>NaN</td>\n      <td>NaN</td>\n      <td>NaN</td>\n      <td>NaN</td>\n    </tr>\n    <tr>\n      <th>150</th>\n      <td>26.0</td>\n      <td>4</td>\n      <td>108</td>\n      <td>93</td>\n      <td>2391</td>\n      <td>15.5</td>\n      <td>74</td>\n      <td>3</td>\n      <td>subaru</td>\n      <td>NaN</td>\n      <td>NaN</td>\n      <td>NaN</td>\n      <td>NaN</td>\n      <td>NaN</td>\n    </tr>\n    <tr>\n      <th>169</th>\n      <td>20.0</td>\n      <td>6</td>\n      <td>232</td>\n      <td>100</td>\n      <td>2914</td>\n      <td>16.0</td>\n      <td>75</td>\n      <td>1</td>\n      <td>amc gremlin</td>\n      <td>NaN</td>\n      <td>NaN</td>\n      <td>NaN</td>\n      <td>NaN</td>\n      <td>NaN</td>\n    </tr>\n    <tr>\n      <th>28</th>\n      <td>9.0</td>\n      <td>8</td>\n      <td>304</td>\n      <td>193</td>\n      <td>4732</td>\n      <td>18.5</td>\n      <td>70</td>\n      <td>1</td>\n      <td>hi 1200d</td>\n      <td>NaN</td>\n      <td>NaN</td>\n      <td>NaN</td>\n      <td>NaN</td>\n      <td>NaN</td>\n    </tr>\n    <tr>\n      <th>127</th>\n      <td>19.0</td>\n      <td>6</td>\n      <td>232</td>\n      <td>100</td>\n      <td>2901</td>\n      <td>16.0</td>\n      <td>74</td>\n      <td>1</td>\n      <td>amc hornet</td>\n      <td>NaN</td>\n      <td>NaN</td>\n      <td>NaN</td>\n      <td>NaN</td>\n      <td>NaN</td>\n    </tr>\n    <tr>\n      <th>137</th>\n      <td>13.0</td>\n      <td>8</td>\n      <td>350</td>\n      <td>150</td>\n      <td>4699</td>\n      <td>14.5</td>\n      <td>74</td>\n      <td>1</td>\n      <td>buick century luxus (sw)</td>\n      <td>NaN</td>\n      <td>NaN</td>\n      <td>NaN</td>\n      <td>NaN</td>\n      <td>NaN</td>\n    </tr>\n    <tr>\n      <th>196</th>\n      <td>24.5</td>\n      <td>4</td>\n      <td>98</td>\n      <td>60</td>\n      <td>2164</td>\n      <td>22.1</td>\n      <td>76</td>\n      <td>1</td>\n      <td>chevrolet woody</td>\n      <td>NaN</td>\n      <td>NaN</td>\n      <td>NaN</td>\n      <td>NaN</td>\n      <td>NaN</td>\n    </tr>\n    <tr>\n      <th>118</th>\n      <td>24.0</td>\n      <td>4</td>\n      <td>116</td>\n      <td>75</td>\n      <td>2158</td>\n      <td>15.5</td>\n      <td>73</td>\n      <td>2</td>\n      <td>opel manta</td>\n      <td>NaN</td>\n      <td>NaN</td>\n      <td>NaN</td>\n      <td>NaN</td>\n      <td>NaN</td>\n    </tr>\n    <tr>\n      <th>69</th>\n      <td>12.0</td>\n      <td>8</td>\n      <td>350</td>\n      <td>160</td>\n      <td>4456</td>\n      <td>13.5</td>\n      <td>72</td>\n      <td>1</td>\n      <td>oldsmobile delta 88 royale</td>\n      <td>NaN</td>\n      <td>NaN</td>\n      <td>NaN</td>\n      <td>NaN</td>\n      <td>NaN</td>\n    </tr>\n    <tr>\n      <th>44</th>\n      <td>13.0</td>\n      <td>8</td>\n      <td>400</td>\n      <td>175</td>\n      <td>5140</td>\n      <td>12.0</td>\n      <td>71</td>\n      <td>1</td>\n      <td>pontiac safari (sw)</td>\n      <td>NaN</td>\n      <td>NaN</td>\n      <td>NaN</td>\n      <td>NaN</td>\n      <td>NaN</td>\n    </tr>\n    <tr>\n      <th>99</th>\n      <td>18.0</td>\n      <td>6</td>\n      <td>232</td>\n      <td>100</td>\n      <td>2945</td>\n      <td>16.0</td>\n      <td>73</td>\n      <td>1</td>\n      <td>amc hornet</td>\n      <td>NaN</td>\n      <td>NaN</td>\n      <td>NaN</td>\n      <td>NaN</td>\n      <td>NaN</td>\n    </tr>\n    <tr>\n      <th>57</th>\n      <td>24.0</td>\n      <td>4</td>\n      <td>113</td>\n      <td>95</td>\n      <td>2278</td>\n      <td>15.5</td>\n      <td>72</td>\n      <td>3</td>\n      <td>toyota corona hardtop</td>\n      <td>NaN</td>\n      <td>NaN</td>\n      <td>NaN</td>\n      <td>NaN</td>\n      <td>NaN</td>\n    </tr>\n    <tr>\n      <th>117</th>\n      <td>29.0</td>\n      <td>4</td>\n      <td>68</td>\n      <td>49</td>\n      <td>1867</td>\n      <td>19.5</td>\n      <td>73</td>\n      <td>2</td>\n      <td>fiat 128</td>\n      <td>NaN</td>\n      <td>NaN</td>\n      <td>NaN</td>\n      <td>NaN</td>\n      <td>NaN</td>\n    </tr>\n    <tr>\n      <th>122</th>\n      <td>24.0</td>\n      <td>4</td>\n      <td>121</td>\n      <td>110</td>\n      <td>2660</td>\n      <td>14.0</td>\n      <td>73</td>\n      <td>2</td>\n      <td>saab 99le</td>\n      <td>NaN</td>\n      <td>NaN</td>\n      <td>NaN</td>\n      <td>NaN</td>\n      <td>NaN</td>\n    </tr>\n    <tr>\n      <th>42</th>\n      <td>12.0</td>\n      <td>8</td>\n      <td>383</td>\n      <td>180</td>\n      <td>4955</td>\n      <td>11.5</td>\n      <td>71</td>\n      <td>1</td>\n      <td>dodge monaco (sw)</td>\n      <td>NaN</td>\n      <td>NaN</td>\n      <td>NaN</td>\n      <td>NaN</td>\n      <td>NaN</td>\n    </tr>\n    <tr>\n      <th>29</th>\n      <td>27.0</td>\n      <td>4</td>\n      <td>97</td>\n      <td>88</td>\n      <td>2130</td>\n      <td>14.5</td>\n      <td>71</td>\n      <td>3</td>\n      <td>datsun pl510</td>\n      <td>NaN</td>\n      <td>NaN</td>\n      <td>NaN</td>\n      <td>NaN</td>\n      <td>NaN</td>\n    </tr>\n    <tr>\n      <th>178</th>\n      <td>23.0</td>\n      <td>4</td>\n      <td>120</td>\n      <td>88</td>\n      <td>2957</td>\n      <td>17.0</td>\n      <td>75</td>\n      <td>2</td>\n      <td>peugeot 504</td>\n      <td>NaN</td>\n      <td>NaN</td>\n      <td>NaN</td>\n      <td>NaN</td>\n      <td>NaN</td>\n    </tr>\n    <tr>\n      <th>106</th>\n      <td>12.0</td>\n      <td>8</td>\n      <td>350</td>\n      <td>180</td>\n      <td>4499</td>\n      <td>12.5</td>\n      <td>73</td>\n      <td>1</td>\n      <td>oldsmobile vista cruiser</td>\n      <td>NaN</td>\n      <td>NaN</td>\n      <td>NaN</td>\n      <td>NaN</td>\n      <td>NaN</td>\n    </tr>\n    <tr>\n      <th>105</th>\n      <td>13.0</td>\n      <td>8</td>\n      <td>360</td>\n      <td>170</td>\n      <td>4654</td>\n      <td>13.0</td>\n      <td>73</td>\n      <td>1</td>\n      <td>plymouth custom suburb</td>\n      <td>NaN</td>\n      <td>NaN</td>\n      <td>NaN</td>\n      <td>NaN</td>\n      <td>NaN</td>\n    </tr>\n    <tr>\n      <th>75</th>\n      <td>14.0</td>\n      <td>8</td>\n      <td>318</td>\n      <td>150</td>\n      <td>4077</td>\n      <td>14.0</td>\n      <td>72</td>\n      <td>1</td>\n      <td>plymouth satellite custom (sw)</td>\n      <td>NaN</td>\n      <td>NaN</td>\n      <td>NaN</td>\n      <td>NaN</td>\n      <td>NaN</td>\n    </tr>\n    <tr>\n      <th>70</th>\n      <td>13.0</td>\n      <td>8</td>\n      <td>400</td>\n      <td>190</td>\n      <td>4422</td>\n      <td>12.5</td>\n      <td>72</td>\n      <td>1</td>\n      <td>chrysler newport royal</td>\n      <td>NaN</td>\n      <td>NaN</td>\n      <td>NaN</td>\n      <td>NaN</td>\n      <td>NaN</td>\n    </tr>\n    <tr>\n      <th>91</th>\n      <td>13.0</td>\n      <td>8</td>\n      <td>400</td>\n      <td>150</td>\n      <td>4464</td>\n      <td>12.0</td>\n      <td>73</td>\n      <td>1</td>\n      <td>chevrolet caprice classic</td>\n      <td>NaN</td>\n      <td>NaN</td>\n      <td>NaN</td>\n      <td>NaN</td>\n      <td>NaN</td>\n    </tr>\n    <tr>\n      <th>0</th>\n      <td>18.0</td>\n      <td>8</td>\n      <td>307</td>\n      <td>130</td>\n      <td>3504</td>\n      <td>12.0</td>\n      <td>70</td>\n      <td>1</td>\n      <td>chevrolet chevelle malibu</td>\n      <td>NaN</td>\n      <td>NaN</td>\n      <td>NaN</td>\n      <td>NaN</td>\n      <td>NaN</td>\n    </tr>\n    <tr>\n      <th>35</th>\n      <td>17.0</td>\n      <td>6</td>\n      <td>250</td>\n      <td>100</td>\n      <td>3329</td>\n      <td>15.5</td>\n      <td>71</td>\n      <td>1</td>\n      <td>chevrolet chevelle malibu</td>\n      <td>NaN</td>\n      <td>NaN</td>\n      <td>NaN</td>\n      <td>NaN</td>\n      <td>NaN</td>\n    </tr>\n    <tr>\n      <th>149</th>\n      <td>24.0</td>\n      <td>4</td>\n      <td>120</td>\n      <td>97</td>\n      <td>2489</td>\n      <td>15.0</td>\n      <td>74</td>\n      <td>3</td>\n      <td>honda civic</td>\n      <td>NaN</td>\n      <td>NaN</td>\n      <td>NaN</td>\n      <td>NaN</td>\n      <td>NaN</td>\n    </tr>\n    <tr>\n      <th>38</th>\n      <td>14.0</td>\n      <td>8</td>\n      <td>350</td>\n      <td>165</td>\n      <td>4209</td>\n      <td>12.0</td>\n      <td>71</td>\n      <td>1</td>\n      <td>chevrolet impala</td>\n      <td>NaN</td>\n      <td>NaN</td>\n      <td>NaN</td>\n      <td>NaN</td>\n      <td>NaN</td>\n    </tr>\n    <tr>\n      <th>46</th>\n      <td>22.0</td>\n      <td>4</td>\n      <td>140</td>\n      <td>72</td>\n      <td>2408</td>\n      <td>19.0</td>\n      <td>71</td>\n      <td>1</td>\n      <td>chevrolet vega (sw)</td>\n      <td>NaN</td>\n      <td>NaN</td>\n      <td>NaN</td>\n      <td>NaN</td>\n      <td>NaN</td>\n    </tr>\n    <tr>\n      <th>153</th>\n      <td>18.0</td>\n      <td>6</td>\n      <td>250</td>\n      <td>105</td>\n      <td>3459</td>\n      <td>16.0</td>\n      <td>75</td>\n      <td>1</td>\n      <td>chevrolet nova</td>\n      <td>NaN</td>\n      <td>NaN</td>\n      <td>NaN</td>\n      <td>NaN</td>\n      <td>NaN</td>\n    </tr>\n    <tr>\n      <th>10</th>\n      <td>15.0</td>\n      <td>8</td>\n      <td>383</td>\n      <td>170</td>\n      <td>3563</td>\n      <td>10.0</td>\n      <td>70</td>\n      <td>1</td>\n      <td>dodge challenger se</td>\n      <td>NaN</td>\n      <td>NaN</td>\n      <td>NaN</td>\n      <td>NaN</td>\n      <td>NaN</td>\n    </tr>\n    <tr>\n      <th>33</th>\n      <td>19.0</td>\n      <td>6</td>\n      <td>232</td>\n      <td>100</td>\n      <td>2634</td>\n      <td>13.0</td>\n      <td>71</td>\n      <td>1</td>\n      <td>amc gremlin</td>\n      <td>NaN</td>\n      <td>NaN</td>\n      <td>NaN</td>\n      <td>NaN</td>\n      <td>NaN</td>\n    </tr>\n    <tr>\n      <th>61</th>\n      <td>21.0</td>\n      <td>4</td>\n      <td>122</td>\n      <td>86</td>\n      <td>2226</td>\n      <td>16.5</td>\n      <td>72</td>\n      <td>1</td>\n      <td>ford pinto runabout</td>\n      <td>NaN</td>\n      <td>NaN</td>\n      <td>NaN</td>\n      <td>NaN</td>\n      <td>NaN</td>\n    </tr>\n    <tr>\n      <th>110</th>\n      <td>22.0</td>\n      <td>4</td>\n      <td>108</td>\n      <td>94</td>\n      <td>2379</td>\n      <td>16.5</td>\n      <td>73</td>\n      <td>3</td>\n      <td>datsun 610</td>\n      <td>NaN</td>\n      <td>NaN</td>\n      <td>NaN</td>\n      <td>NaN</td>\n      <td>NaN</td>\n    </tr>\n    <tr>\n      <th>154</th>\n      <td>15.0</td>\n      <td>6</td>\n      <td>250</td>\n      <td>72</td>\n      <td>3432</td>\n      <td>21.0</td>\n      <td>75</td>\n      <td>1</td>\n      <td>mercury monarch</td>\n      <td>NaN</td>\n      <td>NaN</td>\n      <td>NaN</td>\n      <td>NaN</td>\n      <td>NaN</td>\n    </tr>\n  </tbody>\n</table>\n</div>"
     },
     "execution_count": 5,
     "metadata": {},
     "output_type": "execute_result"
    }
   ],
   "source": [
    "cars1.sample(33)"
   ],
   "metadata": {
    "collapsed": false,
    "pycharm": {
     "name": "#%%\n"
    }
   }
  },
  {
   "cell_type": "code",
   "execution_count": 4,
   "outputs": [
    {
     "data": {
      "text/plain": "      mpg  cylinders  displacement horsepower  weight  acceleration  model  \\\n113  32.1          4            98         70    2120          15.5     80   \n\n     origin                 car  \n113       1  chevrolet chevette  ",
      "text/html": "<div>\n<style scoped>\n    .dataframe tbody tr th:only-of-type {\n        vertical-align: middle;\n    }\n\n    .dataframe tbody tr th {\n        vertical-align: top;\n    }\n\n    .dataframe thead th {\n        text-align: right;\n    }\n</style>\n<table border=\"1\" class=\"dataframe\">\n  <thead>\n    <tr style=\"text-align: right;\">\n      <th></th>\n      <th>mpg</th>\n      <th>cylinders</th>\n      <th>displacement</th>\n      <th>horsepower</th>\n      <th>weight</th>\n      <th>acceleration</th>\n      <th>model</th>\n      <th>origin</th>\n      <th>car</th>\n    </tr>\n  </thead>\n  <tbody>\n    <tr>\n      <th>113</th>\n      <td>32.1</td>\n      <td>4</td>\n      <td>98</td>\n      <td>70</td>\n      <td>2120</td>\n      <td>15.5</td>\n      <td>80</td>\n      <td>1</td>\n      <td>chevrolet chevette</td>\n    </tr>\n  </tbody>\n</table>\n</div>"
     },
     "execution_count": 4,
     "metadata": {},
     "output_type": "execute_result"
    }
   ],
   "source": [
    "cars2.sample()"
   ],
   "metadata": {
    "collapsed": false,
    "pycharm": {
     "name": "#%%\n"
    }
   }
  },
  {
   "cell_type": "markdown",
   "metadata": {
    "pycharm": {
     "name": "#%% md\n"
    }
   },
   "source": [
    "### Step 4. Oops, it seems our first dataset has some unnamed blank columns, fix cars1"
   ]
  },
  {
   "cell_type": "code",
   "execution_count": 16,
   "metadata": {
    "collapsed": false,
    "pycharm": {
     "name": "#%%\n"
    }
   },
   "outputs": [
    {
     "data": {
      "text/plain": "      mpg  cylinders  displacement horsepower  weight  acceleration  model  \\\n110  33.5          4           151         90    2556          13.2     79   \n\n     origin              car  \n110       1  pontiac phoenix  ",
      "text/html": "<div>\n<style scoped>\n    .dataframe tbody tr th:only-of-type {\n        vertical-align: middle;\n    }\n\n    .dataframe tbody tr th {\n        vertical-align: top;\n    }\n\n    .dataframe thead th {\n        text-align: right;\n    }\n</style>\n<table border=\"1\" class=\"dataframe\">\n  <thead>\n    <tr style=\"text-align: right;\">\n      <th></th>\n      <th>mpg</th>\n      <th>cylinders</th>\n      <th>displacement</th>\n      <th>horsepower</th>\n      <th>weight</th>\n      <th>acceleration</th>\n      <th>model</th>\n      <th>origin</th>\n      <th>car</th>\n    </tr>\n  </thead>\n  <tbody>\n    <tr>\n      <th>110</th>\n      <td>33.5</td>\n      <td>4</td>\n      <td>151</td>\n      <td>90</td>\n      <td>2556</td>\n      <td>13.2</td>\n      <td>79</td>\n      <td>1</td>\n      <td>pontiac phoenix</td>\n    </tr>\n  </tbody>\n</table>\n</div>"
     },
     "execution_count": 16,
     "metadata": {},
     "output_type": "execute_result"
    }
   ],
   "source": [
    "try:\n",
    "    cars1 = cars1.drop(['Unnamed: 9', 'Unnamed: 10',  'Unnamed: 11', 'Unnamed: 12', 'Unnamed: 13'], axis=1)\n",
    "except:\n",
    "    pass\n",
    "cars1.sample()\n"
   ]
  },
  {
   "cell_type": "code",
   "execution_count": 17,
   "outputs": [
    {
     "data": {
      "text/plain": "     mpg  cylinders  displacement horsepower  weight  acceleration  model  \\\n32  15.5          8           350        170    4165          11.4     77   \n\n    origin                           car  \n32       1  chevrolet monte carlo landau  ",
      "text/html": "<div>\n<style scoped>\n    .dataframe tbody tr th:only-of-type {\n        vertical-align: middle;\n    }\n\n    .dataframe tbody tr th {\n        vertical-align: top;\n    }\n\n    .dataframe thead th {\n        text-align: right;\n    }\n</style>\n<table border=\"1\" class=\"dataframe\">\n  <thead>\n    <tr style=\"text-align: right;\">\n      <th></th>\n      <th>mpg</th>\n      <th>cylinders</th>\n      <th>displacement</th>\n      <th>horsepower</th>\n      <th>weight</th>\n      <th>acceleration</th>\n      <th>model</th>\n      <th>origin</th>\n      <th>car</th>\n    </tr>\n  </thead>\n  <tbody>\n    <tr>\n      <th>32</th>\n      <td>15.5</td>\n      <td>8</td>\n      <td>350</td>\n      <td>170</td>\n      <td>4165</td>\n      <td>11.4</td>\n      <td>77</td>\n      <td>1</td>\n      <td>chevrolet monte carlo landau</td>\n    </tr>\n  </tbody>\n</table>\n</div>"
     },
     "execution_count": 17,
     "metadata": {},
     "output_type": "execute_result"
    }
   ],
   "source": [
    "cars2.sample()"
   ],
   "metadata": {
    "collapsed": false,
    "pycharm": {
     "name": "#%%\n"
    }
   }
  },
  {
   "cell_type": "markdown",
   "metadata": {
    "pycharm": {
     "name": "#%% md\n"
    }
   },
   "source": [
    "### Step 5. What is the number of observations in each dataset?"
   ]
  },
  {
   "cell_type": "code",
   "execution_count": 15,
   "metadata": {
    "collapsed": false,
    "pycharm": {
     "name": "#%%\n"
    }
   },
   "outputs": [
    {
     "name": "stdout",
     "output_type": "stream",
     "text": [
      "cars1: (198, 9)\n",
      "cars2: (200, 9)\n"
     ]
    }
   ],
   "source": [
    "print(f'cars1: {cars1.shape}\\ncars2: {cars2.shape}')"
   ]
  },
  {
   "cell_type": "markdown",
   "metadata": {
    "pycharm": {
     "name": "#%% md\n"
    }
   },
   "source": [
    "### Step 6. Join cars1 and cars2 into a single DataFrame called cars"
   ]
  },
  {
   "cell_type": "code",
   "execution_count": 24,
   "metadata": {
    "collapsed": false,
    "pycharm": {
     "name": "#%%\n"
    }
   },
   "outputs": [
    {
     "data": {
      "text/plain": "(398, 9)"
     },
     "execution_count": 24,
     "metadata": {},
     "output_type": "execute_result"
    }
   ],
   "source": [
    "cars = pd.concat((cars1, cars2))\n",
    "cars.shape"
   ]
  },
  {
   "cell_type": "markdown",
   "metadata": {
    "pycharm": {
     "name": "#%% md\n"
    }
   },
   "source": [
    "### Step 7. Oops, there is a column missing, called owners. Create a random number Series from 15,000 to 73,000."
   ]
  },
  {
   "cell_type": "code",
   "execution_count": 65,
   "metadata": {
    "collapsed": false,
    "pycharm": {
     "name": "#%%\n"
    }
   },
   "outputs": [
    {
     "data": {
      "text/plain": "array([18426, 37500, 69588, 42350, 58339, 48396, 52732, 51488, 68701,\n       29213, 22620, 31356, 32301, 38013, 33657, 52377, 26175, 33810,\n       72216, 20097, 65922, 18054, 50055, 44366, 50187, 51327, 56626,\n       69465, 37335, 43222, 20665, 56565, 16158, 54592, 42539, 46284,\n       29387, 58292, 40273, 20426, 45048, 44321, 33954, 46649, 55110,\n       55548, 30132, 31454, 17444, 55569, 58405, 68131, 35087, 26781,\n       63924, 32030, 44224, 64127, 21773, 22778, 66476, 57824, 28075,\n       67407, 27196, 21880, 45676, 36186, 53203, 34041, 43231, 21840,\n       70112, 66061, 42238, 68437, 54259, 61856, 30734, 19856, 68456,\n       58480, 68610, 51870, 71409, 32740, 71519, 22366, 42428, 53324,\n       15110, 18524, 35121, 40729, 64575, 55859, 55491, 16897, 52119,\n       38469, 64533, 68866, 30101, 24769, 69483, 61806, 65630, 42296,\n       59076, 43220, 28170, 38956, 22042, 70813, 17566, 21213, 54157,\n       35668, 20425, 34890, 46519, 21473, 54839, 49800, 40968, 43627,\n       30778, 64925, 59319, 39626, 56813, 32736, 72422, 27630, 72260,\n       29425, 16987, 50950, 66574, 71348, 27426, 67376, 54743, 53374,\n       20171, 29577, 52197, 44035, 60553, 51004, 35252, 35864, 61945,\n       63353, 27968, 69258, 59949, 34153, 58842, 52482, 67100, 55377,\n       29688, 45415, 53462, 56381, 50848, 56479, 22033, 28791, 65347,\n       31137, 46349, 27237, 42749, 67033, 24681, 45030, 41514, 35600,\n       16823, 64522, 42187, 64283, 61282, 59313, 72710, 15254, 20172,\n       61734, 37505, 35303, 55957, 57180, 53195, 66154, 57560, 25682,\n       52640, 63588, 28432, 64172, 31295, 28713, 16908, 70126, 16915,\n       46952, 26697, 20221, 17963, 32404, 70158, 39007, 59094, 69209,\n       54834, 16926, 67299, 44870, 52512, 70481, 50635, 72705, 55693,\n       57898, 40585, 60698, 51959, 18957, 65257, 49964, 36736, 70018,\n       66903, 65362, 40756, 61140, 19657, 44188, 40518, 27662, 62860,\n       30946, 15739, 56658, 56231, 18427, 43573, 39305, 20730, 68824,\n       61003, 30520, 16734, 43122, 25526, 65419, 45774, 31053, 36447,\n       33099, 46336, 62922, 57752, 16360, 47499, 50386, 18780, 24648,\n       42078, 44200, 29854, 49914, 17749, 66609, 17150, 21123, 27866,\n       61771, 42578, 59609, 27544, 21283, 53919, 69486, 46184, 61693,\n       32308, 53170, 32982, 43657, 38034, 32151, 41337, 48782, 40738,\n       43748, 49529, 66465, 44495, 51930, 22495, 36316, 35759, 34078,\n       22685, 64581, 57085, 32128, 69922, 17695, 66797, 24463, 67380,\n       58243, 21452, 22331, 19637, 58794, 52928, 43173, 23443, 60215,\n       47929, 17103, 50363, 49432, 56073, 27200, 25126, 41804, 59567,\n       22967, 44580, 35212, 47418, 24038, 53412, 61991, 27234, 48091,\n       49100, 29151, 57104, 66585, 47845, 36038, 53824, 67746, 32944,\n       15207, 51729, 64702, 71110, 18899, 42820, 19688, 49981, 41452,\n       44374, 39953, 19619, 38038, 46182, 35939, 37081, 62806, 47545,\n       52751, 32948, 60306, 25630, 28817, 31289, 25601, 53752, 70975,\n       64961, 35137, 57673, 60631, 15083, 64436, 22226, 63326, 29633,\n       60549, 43755, 58916, 48401, 53104, 65928, 34687, 38607, 30564,\n       19838, 44377])"
     },
     "execution_count": 65,
     "metadata": {},
     "output_type": "execute_result"
    }
   ],
   "source": [
    "owners = np.random.randint(15000, 73000, cars.shape[0])\n",
    "owners"
   ]
  },
  {
   "cell_type": "markdown",
   "metadata": {
    "pycharm": {
     "name": "#%% md\n"
    }
   },
   "source": [
    "### Step 8. Add the column owners to cars"
   ]
  },
  {
   "cell_type": "code",
   "execution_count": 66,
   "outputs": [
    {
     "data": {
      "text/plain": "      mpg  cylinders  displacement horsepower  weight  acceleration  model  \\\n0    18.0          8           307        130    3504          12.0     70   \n1    15.0          8           350        165    3693          11.5     70   \n2    18.0          8           318        150    3436          11.0     70   \n3    16.0          8           304        150    3433          12.0     70   \n4    17.0          8           302        140    3449          10.5     70   \n..    ...        ...           ...        ...     ...           ...    ...   \n195  27.0          4           140         86    2790          15.6     82   \n196  44.0          4            97         52    2130          24.6     82   \n197  32.0          4           135         84    2295          11.6     82   \n198  28.0          4           120         79    2625          18.6     82   \n199  31.0          4           119         82    2720          19.4     82   \n\n     origin                        car  owners  \n0         1  chevrolet chevelle malibu   18426  \n1         1          buick skylark 320   37500  \n2         1         plymouth satellite   69588  \n3         1              amc rebel sst   42350  \n4         1                ford torino   58339  \n..      ...                        ...     ...  \n195       1            ford mustang gl   34687  \n196       2                  vw pickup   38607  \n197       1              dodge rampage   30564  \n198       1                ford ranger   19838  \n199       1                 chevy s-10   44377  \n\n[398 rows x 10 columns]",
      "text/html": "<div>\n<style scoped>\n    .dataframe tbody tr th:only-of-type {\n        vertical-align: middle;\n    }\n\n    .dataframe tbody tr th {\n        vertical-align: top;\n    }\n\n    .dataframe thead th {\n        text-align: right;\n    }\n</style>\n<table border=\"1\" class=\"dataframe\">\n  <thead>\n    <tr style=\"text-align: right;\">\n      <th></th>\n      <th>mpg</th>\n      <th>cylinders</th>\n      <th>displacement</th>\n      <th>horsepower</th>\n      <th>weight</th>\n      <th>acceleration</th>\n      <th>model</th>\n      <th>origin</th>\n      <th>car</th>\n      <th>owners</th>\n    </tr>\n  </thead>\n  <tbody>\n    <tr>\n      <th>0</th>\n      <td>18.0</td>\n      <td>8</td>\n      <td>307</td>\n      <td>130</td>\n      <td>3504</td>\n      <td>12.0</td>\n      <td>70</td>\n      <td>1</td>\n      <td>chevrolet chevelle malibu</td>\n      <td>18426</td>\n    </tr>\n    <tr>\n      <th>1</th>\n      <td>15.0</td>\n      <td>8</td>\n      <td>350</td>\n      <td>165</td>\n      <td>3693</td>\n      <td>11.5</td>\n      <td>70</td>\n      <td>1</td>\n      <td>buick skylark 320</td>\n      <td>37500</td>\n    </tr>\n    <tr>\n      <th>2</th>\n      <td>18.0</td>\n      <td>8</td>\n      <td>318</td>\n      <td>150</td>\n      <td>3436</td>\n      <td>11.0</td>\n      <td>70</td>\n      <td>1</td>\n      <td>plymouth satellite</td>\n      <td>69588</td>\n    </tr>\n    <tr>\n      <th>3</th>\n      <td>16.0</td>\n      <td>8</td>\n      <td>304</td>\n      <td>150</td>\n      <td>3433</td>\n      <td>12.0</td>\n      <td>70</td>\n      <td>1</td>\n      <td>amc rebel sst</td>\n      <td>42350</td>\n    </tr>\n    <tr>\n      <th>4</th>\n      <td>17.0</td>\n      <td>8</td>\n      <td>302</td>\n      <td>140</td>\n      <td>3449</td>\n      <td>10.5</td>\n      <td>70</td>\n      <td>1</td>\n      <td>ford torino</td>\n      <td>58339</td>\n    </tr>\n    <tr>\n      <th>...</th>\n      <td>...</td>\n      <td>...</td>\n      <td>...</td>\n      <td>...</td>\n      <td>...</td>\n      <td>...</td>\n      <td>...</td>\n      <td>...</td>\n      <td>...</td>\n      <td>...</td>\n    </tr>\n    <tr>\n      <th>195</th>\n      <td>27.0</td>\n      <td>4</td>\n      <td>140</td>\n      <td>86</td>\n      <td>2790</td>\n      <td>15.6</td>\n      <td>82</td>\n      <td>1</td>\n      <td>ford mustang gl</td>\n      <td>34687</td>\n    </tr>\n    <tr>\n      <th>196</th>\n      <td>44.0</td>\n      <td>4</td>\n      <td>97</td>\n      <td>52</td>\n      <td>2130</td>\n      <td>24.6</td>\n      <td>82</td>\n      <td>2</td>\n      <td>vw pickup</td>\n      <td>38607</td>\n    </tr>\n    <tr>\n      <th>197</th>\n      <td>32.0</td>\n      <td>4</td>\n      <td>135</td>\n      <td>84</td>\n      <td>2295</td>\n      <td>11.6</td>\n      <td>82</td>\n      <td>1</td>\n      <td>dodge rampage</td>\n      <td>30564</td>\n    </tr>\n    <tr>\n      <th>198</th>\n      <td>28.0</td>\n      <td>4</td>\n      <td>120</td>\n      <td>79</td>\n      <td>2625</td>\n      <td>18.6</td>\n      <td>82</td>\n      <td>1</td>\n      <td>ford ranger</td>\n      <td>19838</td>\n    </tr>\n    <tr>\n      <th>199</th>\n      <td>31.0</td>\n      <td>4</td>\n      <td>119</td>\n      <td>82</td>\n      <td>2720</td>\n      <td>19.4</td>\n      <td>82</td>\n      <td>1</td>\n      <td>chevy s-10</td>\n      <td>44377</td>\n    </tr>\n  </tbody>\n</table>\n<p>398 rows × 10 columns</p>\n</div>"
     },
     "execution_count": 66,
     "metadata": {},
     "output_type": "execute_result"
    }
   ],
   "source": [
    "cars['owners'] = owners\n",
    "cars"
   ],
   "metadata": {
    "collapsed": false,
    "pycharm": {
     "name": "#%%\n"
    }
   }
  },
  {
   "cell_type": "code",
   "execution_count": null,
   "outputs": [],
   "source": [],
   "metadata": {
    "collapsed": false,
    "pycharm": {
     "name": "#%%\n"
    }
   }
  },
  {
   "cell_type": "code",
   "execution_count": null,
   "outputs": [],
   "source": [],
   "metadata": {
    "collapsed": false,
    "pycharm": {
     "name": "#%%\n"
    }
   }
  },
  {
   "cell_type": "code",
   "execution_count": null,
   "outputs": [],
   "source": [],
   "metadata": {
    "collapsed": false,
    "pycharm": {
     "name": "#%%\n"
    }
   }
  },
  {
   "cell_type": "code",
   "execution_count": null,
   "outputs": [],
   "source": [],
   "metadata": {
    "collapsed": false,
    "pycharm": {
     "name": "#%%\n"
    }
   }
  }
 ],
 "metadata": {
  "anaconda-cloud": {},
  "kernelspec": {
   "name": "python3",
   "language": "python",
   "display_name": "Python 3 (ipykernel)"
  },
  "language_info": {
   "codemirror_mode": {
    "name": "ipython",
    "version": 2
   },
   "file_extension": ".py",
   "mimetype": "text/x-python",
   "name": "python",
   "nbconvert_exporter": "python",
   "pygments_lexer": "ipython2",
   "version": "2.7.12"
  }
 },
 "nbformat": 4,
 "nbformat_minor": 0
}