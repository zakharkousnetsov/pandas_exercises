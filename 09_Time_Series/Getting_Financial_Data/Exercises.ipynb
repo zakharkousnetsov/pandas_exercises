{
 "cells": [
  {
   "cell_type": "markdown",
   "metadata": {
    "pycharm": {
     "name": "#%% md\n"
    }
   },
   "source": [
    "# Getting Financial Data - Pandas Datareader"
   ]
  },
  {
   "cell_type": "markdown",
   "metadata": {
    "pycharm": {
     "name": "#%% md\n"
    }
   },
   "source": [
    "### Introduction:\n",
    "\n",
    "This time you will get data from a website.\n",
    "\n",
    "\n",
    "### Step 1. Import the necessary libraries"
   ]
  },
  {
   "cell_type": "code",
   "execution_count": 2,
   "outputs": [
    {
     "data": {
      "text/plain": "4"
     },
     "execution_count": 2,
     "metadata": {},
     "output_type": "execute_result"
    }
   ],
   "source": [
    "2+2"
   ],
   "metadata": {
    "collapsed": false,
    "pycharm": {
     "name": "#%%\n"
    }
   }
  },
  {
   "cell_type": "code",
   "execution_count": 3,
   "metadata": {
    "pycharm": {
     "name": "#%%\n"
    }
   },
   "outputs": [],
   "source": [
    "import pandas as pd\n",
    "import pandas_datareader as pdr\n",
    "import KEY\n",
    "import os\n",
    "from datetime import datetime\n",
    "import pandas_datareader.data as web"
   ]
  },
  {
   "cell_type": "code",
   "execution_count": 2,
   "outputs": [
    {
     "data": {
      "text/plain": "            GS10\nDATE            \n2018-07-01  2.89\n2018-08-01  2.89\n2018-09-01  3.00\n2018-10-01  3.15\n2018-11-01  3.12\n2018-12-01  2.83\n2019-01-01  2.71\n2019-02-01  2.68\n2019-03-01  2.57\n2019-04-01  2.53\n2019-05-01  2.40\n2019-06-01  2.07\n2019-07-01  2.06\n2019-08-01  1.63\n2019-09-01  1.70\n2019-10-01  1.71\n2019-11-01  1.81\n2019-12-01  1.86\n2020-01-01  1.76\n2020-02-01  1.50\n2020-03-01  0.87\n2020-04-01  0.66\n2020-05-01  0.67\n2020-06-01  0.73\n2020-07-01  0.62\n2020-08-01  0.65\n2020-09-01  0.68\n2020-10-01  0.79\n2020-11-01  0.87\n2020-12-01  0.93\n2021-01-01  1.08\n2021-02-01  1.26\n2021-03-01  1.61\n2021-04-01  1.64\n2021-05-01  1.62\n2021-06-01  1.52\n2021-07-01  1.32\n2021-08-01  1.28\n2021-09-01  1.37\n2021-10-01  1.58\n2021-11-01  1.56\n2021-12-01  1.47\n2022-01-01  1.76\n2022-02-01  1.93\n2022-03-01  2.13\n2022-04-01  2.75\n2022-05-01  2.90\n2022-06-01  3.14\n2022-07-01  2.90\n2022-08-01  2.90\n2022-09-01  3.52\n2022-10-01  3.98\n2022-11-01  3.89\n2022-12-01  3.62\n2023-01-01  3.53\n2023-02-01  3.75\n2023-03-01  3.66\n2023-04-01  3.46\n2023-05-01  3.57",
      "text/html": "<div>\n<style scoped>\n    .dataframe tbody tr th:only-of-type {\n        vertical-align: middle;\n    }\n\n    .dataframe tbody tr th {\n        vertical-align: top;\n    }\n\n    .dataframe thead th {\n        text-align: right;\n    }\n</style>\n<table border=\"1\" class=\"dataframe\">\n  <thead>\n    <tr style=\"text-align: right;\">\n      <th></th>\n      <th>GS10</th>\n    </tr>\n    <tr>\n      <th>DATE</th>\n      <th></th>\n    </tr>\n  </thead>\n  <tbody>\n    <tr>\n      <th>2018-07-01</th>\n      <td>2.89</td>\n    </tr>\n    <tr>\n      <th>2018-08-01</th>\n      <td>2.89</td>\n    </tr>\n    <tr>\n      <th>2018-09-01</th>\n      <td>3.00</td>\n    </tr>\n    <tr>\n      <th>2018-10-01</th>\n      <td>3.15</td>\n    </tr>\n    <tr>\n      <th>2018-11-01</th>\n      <td>3.12</td>\n    </tr>\n    <tr>\n      <th>2018-12-01</th>\n      <td>2.83</td>\n    </tr>\n    <tr>\n      <th>2019-01-01</th>\n      <td>2.71</td>\n    </tr>\n    <tr>\n      <th>2019-02-01</th>\n      <td>2.68</td>\n    </tr>\n    <tr>\n      <th>2019-03-01</th>\n      <td>2.57</td>\n    </tr>\n    <tr>\n      <th>2019-04-01</th>\n      <td>2.53</td>\n    </tr>\n    <tr>\n      <th>2019-05-01</th>\n      <td>2.40</td>\n    </tr>\n    <tr>\n      <th>2019-06-01</th>\n      <td>2.07</td>\n    </tr>\n    <tr>\n      <th>2019-07-01</th>\n      <td>2.06</td>\n    </tr>\n    <tr>\n      <th>2019-08-01</th>\n      <td>1.63</td>\n    </tr>\n    <tr>\n      <th>2019-09-01</th>\n      <td>1.70</td>\n    </tr>\n    <tr>\n      <th>2019-10-01</th>\n      <td>1.71</td>\n    </tr>\n    <tr>\n      <th>2019-11-01</th>\n      <td>1.81</td>\n    </tr>\n    <tr>\n      <th>2019-12-01</th>\n      <td>1.86</td>\n    </tr>\n    <tr>\n      <th>2020-01-01</th>\n      <td>1.76</td>\n    </tr>\n    <tr>\n      <th>2020-02-01</th>\n      <td>1.50</td>\n    </tr>\n    <tr>\n      <th>2020-03-01</th>\n      <td>0.87</td>\n    </tr>\n    <tr>\n      <th>2020-04-01</th>\n      <td>0.66</td>\n    </tr>\n    <tr>\n      <th>2020-05-01</th>\n      <td>0.67</td>\n    </tr>\n    <tr>\n      <th>2020-06-01</th>\n      <td>0.73</td>\n    </tr>\n    <tr>\n      <th>2020-07-01</th>\n      <td>0.62</td>\n    </tr>\n    <tr>\n      <th>2020-08-01</th>\n      <td>0.65</td>\n    </tr>\n    <tr>\n      <th>2020-09-01</th>\n      <td>0.68</td>\n    </tr>\n    <tr>\n      <th>2020-10-01</th>\n      <td>0.79</td>\n    </tr>\n    <tr>\n      <th>2020-11-01</th>\n      <td>0.87</td>\n    </tr>\n    <tr>\n      <th>2020-12-01</th>\n      <td>0.93</td>\n    </tr>\n    <tr>\n      <th>2021-01-01</th>\n      <td>1.08</td>\n    </tr>\n    <tr>\n      <th>2021-02-01</th>\n      <td>1.26</td>\n    </tr>\n    <tr>\n      <th>2021-03-01</th>\n      <td>1.61</td>\n    </tr>\n    <tr>\n      <th>2021-04-01</th>\n      <td>1.64</td>\n    </tr>\n    <tr>\n      <th>2021-05-01</th>\n      <td>1.62</td>\n    </tr>\n    <tr>\n      <th>2021-06-01</th>\n      <td>1.52</td>\n    </tr>\n    <tr>\n      <th>2021-07-01</th>\n      <td>1.32</td>\n    </tr>\n    <tr>\n      <th>2021-08-01</th>\n      <td>1.28</td>\n    </tr>\n    <tr>\n      <th>2021-09-01</th>\n      <td>1.37</td>\n    </tr>\n    <tr>\n      <th>2021-10-01</th>\n      <td>1.58</td>\n    </tr>\n    <tr>\n      <th>2021-11-01</th>\n      <td>1.56</td>\n    </tr>\n    <tr>\n      <th>2021-12-01</th>\n      <td>1.47</td>\n    </tr>\n    <tr>\n      <th>2022-01-01</th>\n      <td>1.76</td>\n    </tr>\n    <tr>\n      <th>2022-02-01</th>\n      <td>1.93</td>\n    </tr>\n    <tr>\n      <th>2022-03-01</th>\n      <td>2.13</td>\n    </tr>\n    <tr>\n      <th>2022-04-01</th>\n      <td>2.75</td>\n    </tr>\n    <tr>\n      <th>2022-05-01</th>\n      <td>2.90</td>\n    </tr>\n    <tr>\n      <th>2022-06-01</th>\n      <td>3.14</td>\n    </tr>\n    <tr>\n      <th>2022-07-01</th>\n      <td>2.90</td>\n    </tr>\n    <tr>\n      <th>2022-08-01</th>\n      <td>2.90</td>\n    </tr>\n    <tr>\n      <th>2022-09-01</th>\n      <td>3.52</td>\n    </tr>\n    <tr>\n      <th>2022-10-01</th>\n      <td>3.98</td>\n    </tr>\n    <tr>\n      <th>2022-11-01</th>\n      <td>3.89</td>\n    </tr>\n    <tr>\n      <th>2022-12-01</th>\n      <td>3.62</td>\n    </tr>\n    <tr>\n      <th>2023-01-01</th>\n      <td>3.53</td>\n    </tr>\n    <tr>\n      <th>2023-02-01</th>\n      <td>3.75</td>\n    </tr>\n    <tr>\n      <th>2023-03-01</th>\n      <td>3.66</td>\n    </tr>\n    <tr>\n      <th>2023-04-01</th>\n      <td>3.46</td>\n    </tr>\n    <tr>\n      <th>2023-05-01</th>\n      <td>3.57</td>\n    </tr>\n  </tbody>\n</table>\n</div>"
     },
     "execution_count": 2,
     "metadata": {},
     "output_type": "execute_result"
    }
   ],
   "source": [
    "pdr.get_data_fred('GS10')"
   ],
   "metadata": {
    "collapsed": false,
    "pycharm": {
     "name": "#%%\n"
    }
   }
  },
  {
   "cell_type": "markdown",
   "metadata": {
    "pycharm": {
     "name": "#%% md\n"
    }
   },
   "source": [
    "### Step 2. Create your time range (start and end variables). The start date should be 01/01/2015 and the end should today (whatever your today is)."
   ]
  },
  {
   "cell_type": "code",
   "execution_count": 3,
   "metadata": {
    "pycharm": {
     "name": "#%%\n"
    }
   },
   "outputs": [
    {
     "data": {
      "text/plain": "DatetimeIndex(['2015-01-01', '2015-01-02', '2015-01-03', '2015-01-04',\n               '2015-01-05', '2015-01-06', '2015-01-07', '2015-01-08',\n               '2015-01-09', '2015-01-10',\n               ...\n               '2018-12-23', '2018-12-24', '2018-12-25', '2018-12-26',\n               '2018-12-27', '2018-12-28', '2018-12-29', '2018-12-30',\n               '2018-12-31', '2019-01-01'],\n              dtype='datetime64[ns]', length=1462, freq='D')"
     },
     "execution_count": 3,
     "metadata": {},
     "output_type": "execute_result"
    }
   ],
   "source": [
    "pd.date_range(start='01/01/2015', end='01/01/2019', freq='D')"
   ]
  },
  {
   "cell_type": "markdown",
   "metadata": {
    "pycharm": {
     "name": "#%% md\n"
    }
   },
   "source": [
    "### Step 3. Get an API key for one of the APIs that are supported by Pandas Datareader, preferably for AlphaVantage.\n",
    "\n",
    "If you do not have an API key for any of the supported APIs, it is easiest to get one for [AlphaVantage](https://www.alphavantage.co/support/#api-key). (Note that the API key is shown directly after the signup. You do *not* receive it via e-mail.)\n",
    "\n",
    "(For a full list of the APIs that are supported by Pandas Datareader, [see here](https://pydata.github.io/pandas-datareader/readers/index.html). As the APIs are provided by third parties, this list may change.)"
   ]
  },
  {
   "cell_type": "code",
   "execution_count": 2,
   "outputs": [
    {
     "name": "stdout",
     "output_type": "stream",
     "text": [
      "WEAQDT929P2DLC60\n"
     ]
    }
   ],
   "source": [
    "print(KEY.key)"
   ],
   "metadata": {
    "collapsed": false,
    "pycharm": {
     "name": "#%%\n"
    }
   }
  },
  {
   "cell_type": "code",
   "execution_count": 16,
   "outputs": [
    {
     "ename": "AttributeError",
     "evalue": "'DataFrame' object has no attribute 'append'",
     "output_type": "error",
     "traceback": [
      "\u001B[1;31m---------------------------------------------------------------------------\u001B[0m",
      "\u001B[1;31mAttributeError\u001B[0m                            Traceback (most recent call last)",
      "Cell \u001B[1;32mIn[16], line 1\u001B[0m\n\u001B[1;32m----> 1\u001B[0m f \u001B[38;5;241m=\u001B[39m \u001B[43mpdr\u001B[49m\u001B[38;5;241;43m.\u001B[39;49m\u001B[43mget_data_moex\u001B[49m\u001B[43m(\u001B[49m\u001B[38;5;124;43m'\u001B[39;49m\u001B[38;5;124;43mMAGN\u001B[39;49m\u001B[38;5;124;43m'\u001B[39;49m\u001B[43m,\u001B[49m\u001B[43m \u001B[49m\u001B[38;5;124;43m'\u001B[39;49m\u001B[38;5;124;43m2020-07-02\u001B[39;49m\u001B[38;5;124;43m'\u001B[39;49m\u001B[43m,\u001B[49m\u001B[43m \u001B[49m\u001B[38;5;124;43m'\u001B[39;49m\u001B[38;5;124;43m2020-07-07\u001B[39;49m\u001B[38;5;124;43m'\u001B[39;49m\u001B[43m)\u001B[49m\n",
      "File \u001B[1;32mC:\\work_and_fun\\partisans\\PP\\pandas_exercises\\lib\\site-packages\\pandas_datareader\\data.py:104\u001B[0m, in \u001B[0;36mget_data_moex\u001B[1;34m(*args, **kwargs)\u001B[0m\n\u001B[0;32m    103\u001B[0m \u001B[38;5;28;01mdef\u001B[39;00m \u001B[38;5;21mget_data_moex\u001B[39m(\u001B[38;5;241m*\u001B[39margs, \u001B[38;5;241m*\u001B[39m\u001B[38;5;241m*\u001B[39mkwargs):\n\u001B[1;32m--> 104\u001B[0m     \u001B[38;5;28;01mreturn\u001B[39;00m \u001B[43mMoexReader\u001B[49m\u001B[43m(\u001B[49m\u001B[38;5;241;43m*\u001B[39;49m\u001B[43margs\u001B[49m\u001B[43m,\u001B[49m\u001B[43m \u001B[49m\u001B[38;5;241;43m*\u001B[39;49m\u001B[38;5;241;43m*\u001B[39;49m\u001B[43mkwargs\u001B[49m\u001B[43m)\u001B[49m\u001B[38;5;241;43m.\u001B[39;49m\u001B[43mread\u001B[49m\u001B[43m(\u001B[49m\u001B[43m)\u001B[49m\n",
      "File \u001B[1;32mC:\\work_and_fun\\partisans\\PP\\pandas_exercises\\lib\\site-packages\\pandas_datareader\\moex.py:215\u001B[0m, in \u001B[0;36mMoexReader.read\u001B[1;34m(self)\u001B[0m\n\u001B[0;32m    213\u001B[0m \u001B[38;5;28;01mfor\u001B[39;00m secid \u001B[38;5;129;01min\u001B[39;00m \u001B[38;5;28mlist\u001B[39m(\u001B[38;5;28mset\u001B[39m(b[\u001B[38;5;124m\"\u001B[39m\u001B[38;5;124mSECID\u001B[39m\u001B[38;5;124m\"\u001B[39m]\u001B[38;5;241m.\u001B[39mtolist())):\n\u001B[0;32m    214\u001B[0m     part \u001B[38;5;241m=\u001B[39m b[b[\u001B[38;5;124m\"\u001B[39m\u001B[38;5;124mBOARDID\u001B[39m\u001B[38;5;124m\"\u001B[39m] \u001B[38;5;241m==\u001B[39m boards[secid]]\n\u001B[1;32m--> 215\u001B[0m     result \u001B[38;5;241m=\u001B[39m \u001B[43mresult\u001B[49m\u001B[38;5;241;43m.\u001B[39;49m\u001B[43mappend\u001B[49m(part)\n\u001B[0;32m    216\u001B[0m result \u001B[38;5;241m=\u001B[39m result\u001B[38;5;241m.\u001B[39mdrop_duplicates()\n\u001B[0;32m    217\u001B[0m \u001B[38;5;28;01mreturn\u001B[39;00m result\n",
      "File \u001B[1;32mC:\\work_and_fun\\partisans\\PP\\pandas_exercises\\lib\\site-packages\\pandas\\core\\generic.py:5989\u001B[0m, in \u001B[0;36mNDFrame.__getattr__\u001B[1;34m(self, name)\u001B[0m\n\u001B[0;32m   5982\u001B[0m \u001B[38;5;28;01mif\u001B[39;00m (\n\u001B[0;32m   5983\u001B[0m     name \u001B[38;5;129;01mnot\u001B[39;00m \u001B[38;5;129;01min\u001B[39;00m \u001B[38;5;28mself\u001B[39m\u001B[38;5;241m.\u001B[39m_internal_names_set\n\u001B[0;32m   5984\u001B[0m     \u001B[38;5;129;01mand\u001B[39;00m name \u001B[38;5;129;01mnot\u001B[39;00m \u001B[38;5;129;01min\u001B[39;00m \u001B[38;5;28mself\u001B[39m\u001B[38;5;241m.\u001B[39m_metadata\n\u001B[0;32m   5985\u001B[0m     \u001B[38;5;129;01mand\u001B[39;00m name \u001B[38;5;129;01mnot\u001B[39;00m \u001B[38;5;129;01min\u001B[39;00m \u001B[38;5;28mself\u001B[39m\u001B[38;5;241m.\u001B[39m_accessors\n\u001B[0;32m   5986\u001B[0m     \u001B[38;5;129;01mand\u001B[39;00m \u001B[38;5;28mself\u001B[39m\u001B[38;5;241m.\u001B[39m_info_axis\u001B[38;5;241m.\u001B[39m_can_hold_identifiers_and_holds_name(name)\n\u001B[0;32m   5987\u001B[0m ):\n\u001B[0;32m   5988\u001B[0m     \u001B[38;5;28;01mreturn\u001B[39;00m \u001B[38;5;28mself\u001B[39m[name]\n\u001B[1;32m-> 5989\u001B[0m \u001B[38;5;28;01mreturn\u001B[39;00m \u001B[38;5;28;43mobject\u001B[39;49m\u001B[38;5;241;43m.\u001B[39;49m\u001B[38;5;21;43m__getattribute__\u001B[39;49m\u001B[43m(\u001B[49m\u001B[38;5;28;43mself\u001B[39;49m\u001B[43m,\u001B[49m\u001B[43m \u001B[49m\u001B[43mname\u001B[49m\u001B[43m)\u001B[49m\n",
      "\u001B[1;31mAttributeError\u001B[0m: 'DataFrame' object has no attribute 'append'"
     ]
    }
   ],
   "source": [
    "f = pdr.get_data_moex('MAGN', '2020-07-02', '2020-07-07')"
   ],
   "metadata": {
    "collapsed": false,
    "pycharm": {
     "name": "#%%\n"
    }
   }
  },
  {
   "cell_type": "code",
   "execution_count": null,
   "outputs": [],
   "source": [],
   "metadata": {
    "collapsed": false,
    "pycharm": {
     "name": "#%%\n"
    }
   }
  },
  {
   "cell_type": "code",
   "execution_count": null,
   "outputs": [],
   "source": [],
   "metadata": {
    "collapsed": false,
    "pycharm": {
     "name": "#%%\n"
    }
   }
  },
  {
   "cell_type": "code",
   "execution_count": null,
   "outputs": [],
   "source": [],
   "metadata": {
    "collapsed": false,
    "pycharm": {
     "name": "#%%\n"
    }
   }
  },
  {
   "cell_type": "markdown",
   "metadata": {
    "pycharm": {
     "name": "#%% md\n"
    }
   },
   "source": [
    "### Step 4. Use Pandas Datarader to read the daily time series for the Apple stock (ticker symbol AAPL) between 01/01/2015 and today, assign it to df_apple and print it."
   ]
  },
  {
   "cell_type": "code",
   "execution_count": null,
   "metadata": {
    "pycharm": {
     "name": "#%%\n"
    }
   },
   "outputs": [],
   "source": []
  },
  {
   "cell_type": "markdown",
   "metadata": {
    "pycharm": {
     "name": "#%% md\n"
    }
   },
   "source": [
    "### Step 5. Add a new column \"stock\" to the dataframe and add the ticker symbol"
   ]
  },
  {
   "cell_type": "code",
   "execution_count": null,
   "metadata": {
    "pycharm": {
     "name": "#%%\n"
    }
   },
   "outputs": [],
   "source": []
  },
  {
   "cell_type": "markdown",
   "metadata": {
    "pycharm": {
     "name": "#%% md\n"
    }
   },
   "source": [
    "### Step 6. Repeat the two previous steps for a few other stocks, always creating a new dataframe: Tesla, IBM and Microsoft. (Ticker symbols TSLA, IBM and MSFT.)"
   ]
  },
  {
   "cell_type": "code",
   "execution_count": null,
   "metadata": {
    "pycharm": {
     "name": "#%%\n"
    }
   },
   "outputs": [],
   "source": []
  },
  {
   "cell_type": "markdown",
   "metadata": {
    "pycharm": {
     "name": "#%% md\n"
    }
   },
   "source": [
    "### Step 7. Combine the four separate dataFrames into one combined dataFrame df that holds the information for all four stocks"
   ]
  },
  {
   "cell_type": "code",
   "execution_count": null,
   "metadata": {
    "pycharm": {
     "name": "#%%\n"
    }
   },
   "outputs": [],
   "source": []
  },
  {
   "cell_type": "markdown",
   "metadata": {
    "pycharm": {
     "name": "#%% md\n"
    }
   },
   "source": [
    "### Step 8. Shift the stock column into the index (making it a multi-level index consisting of the ticker symbol and the date)."
   ]
  },
  {
   "cell_type": "code",
   "execution_count": null,
   "metadata": {
    "pycharm": {
     "name": "#%%\n"
    }
   },
   "outputs": [],
   "source": []
  },
  {
   "cell_type": "markdown",
   "metadata": {
    "pycharm": {
     "name": "#%% md\n"
    }
   },
   "source": [
    "### Step 7. Create a dataFrame called vol, with the volume values."
   ]
  },
  {
   "cell_type": "code",
   "execution_count": null,
   "metadata": {
    "pycharm": {
     "name": "#%%\n"
    }
   },
   "outputs": [],
   "source": []
  },
  {
   "cell_type": "markdown",
   "metadata": {
    "pycharm": {
     "name": "#%% md\n"
    }
   },
   "source": [
    "### Step 8. Aggregate the data of volume to weekly.\n",
    "Hint: Be careful to not sum data from the same week of 2015 and other years."
   ]
  },
  {
   "cell_type": "code",
   "execution_count": null,
   "metadata": {
    "pycharm": {
     "name": "#%%\n"
    }
   },
   "outputs": [],
   "source": []
  },
  {
   "cell_type": "markdown",
   "metadata": {
    "pycharm": {
     "name": "#%% md\n"
    }
   },
   "source": [
    "### Step 9. Find all the volume traded in the year of 2015"
   ]
  },
  {
   "cell_type": "code",
   "execution_count": null,
   "metadata": {
    "pycharm": {
     "name": "#%%\n"
    }
   },
   "outputs": [],
   "source": []
  }
 ],
 "metadata": {
  "kernelspec": {
   "display_name": "Python 3",
   "language": "python",
   "name": "python3"
  },
  "language_info": {
   "codemirror_mode": {
    "name": "ipython",
    "version": 3
   },
   "file_extension": ".py",
   "mimetype": "text/x-python",
   "name": "python",
   "nbconvert_exporter": "python",
   "pygments_lexer": "ipython3",
   "version": "3.7.4"
  }
 },
 "nbformat": 4,
 "nbformat_minor": 1
}